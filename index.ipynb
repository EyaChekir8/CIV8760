{
 "cells": [
  {
   "cell_type": "markdown",
   "metadata": {},
   "source": [
    "# Table des matières\n",
    "\n",
    "0. [Ressources pour installer et apprendre le langage Python](Python/README.md) et [tutoriel Python](Python/tutoriel-python.ipynb)\n",
    "\n",
    "\n",
    "3. [Traitement de données](03-traitement-donnees.ipynb)\n",
    "\n",
    "\n",
    "6. [Analyse statistique](06-analyse-statistique.ipynb)\n",
    "7. [Modèles statistiques](07-modeles-statistiques.ipynb)\n",
    "8. [Visualisation de données](08-visualisation.ipynb)\n",
    "9. [Fouille de données](09-fouille-donnees.ipynb)\n",
    "10. [Analyse spatiale](10-donnees-spatiales.ipynb)\n",
    "\n",
    "Ressources du PolyWikiTI (en anglais)\n",
    "* Ressources de programmation https://www.polymtl.ca/wikitransport/index.php?title=Programming_Resources\n",
    "* Ressources de science des données https://www.polymtl.ca/wikitransport/index.php?title=Data_Science_Resources"
   ]
  }
 ],
 "metadata": {
  "kernelspec": {
   "display_name": "Python 3",
   "language": "python",
   "name": "python3"
  },
  "language_info": {
   "codemirror_mode": {
    "name": "ipython",
    "version": 3
   },
   "file_extension": ".py",
   "mimetype": "text/x-python",
   "name": "python",
   "nbconvert_exporter": "python",
   "pygments_lexer": "ipython3",
   "version": "3.8.2"
  }
 },
 "nbformat": 4,
 "nbformat_minor": 2
}

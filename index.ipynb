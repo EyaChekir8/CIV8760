{
 "cells": [
  {
   "cell_type": "markdown",
   "metadata": {},
   "source": [
    "# Table des matières\n",
    "\n",
    "1. [Tutoriel Python](00-tutoriel.ipynb)\n",
    "1. [Traitement de données](02-traitement-donnees.ipynb)\n",
    "1. [Données spatiales](03-donnees-spatiales.ipynb)\n",
    "1. Statistiques\n",
    " 1. [Analyse statistique](04-statistiques.ipynb)\n",
    " 1. [Modèles statistiques](04-modeles-statistiques.ipynb)\n",
    " 1. [Visualisation de données](04-visualisation.ipynb)\n",
    "1. [Fouille de données](05-fouille-donnees.ipynb)\n",
    "\n",
    "Ressources du PolyWikiTI (en anglais)\n",
    "* Ressources de programmation https://www.polymtl.ca/wikitransport/index.php?title=Programming_Resources\n",
    "* Ressources de sience des données https://www.polymtl.ca/wikitransport/index.php?title=Data_Science_Resources"
   ]
  }
 ],
 "metadata": {
  "kernelspec": {
   "display_name": "Python 3",
   "language": "python",
   "name": "python3"
  },
  "language_info": {
   "codemirror_mode": {
    "name": "ipython",
    "version": 3
   },
   "file_extension": ".py",
   "mimetype": "text/x-python",
   "name": "python",
   "nbconvert_exporter": "python",
   "pygments_lexer": "ipython3",
   "version": "3.6.8"
  }
 },
 "nbformat": 4,
 "nbformat_minor": 2
}

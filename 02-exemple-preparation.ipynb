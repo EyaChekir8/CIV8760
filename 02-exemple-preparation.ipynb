{
 "cells": [
  {
   "cell_type": "code",
   "execution_count": 1,
   "metadata": {
    "collapsed": true
   },
   "outputs": [],
   "source": [
    "import random\n",
    "# entrées\n",
    "vitesses = [random.uniform(45,55) for x in range(10000)]"
   ]
  },
  {
   "cell_type": "code",
   "execution_count": 2,
   "metadata": {},
   "outputs": [],
   "source": [
    "# traitements\n",
    "# calcul de la moyenne\n",
    "somme = 0.\n",
    "for v in vitesses:\n",
    "    somme += v\n",
    "moyenne = somme/len(vitesses)\n",
    "\n",
    "# comptage des éléments plus grands que la moyenne\n",
    "nPlusGrands = 0\n",
    "for v in vitesses:\n",
    "    if v>=moyenne:\n",
    "        nPlusGrands += 1"
   ]
  },
  {
   "cell_type": "code",
   "execution_count": 3,
   "metadata": {},
   "outputs": [
    {
     "name": "stdout",
     "output_type": "stream",
     "text": [
      "Le nombre de vitesses supérieures à la moyenne (50.01450003265739) est: 5038\n"
     ]
    }
   ],
   "source": [
    "# sorties\n",
    "print('Le nombre de vitesses supérieures à la moyenne ({}) est: {}'.format(moyenne, nPlusGrands))"
   ]
  }
 ],
 "metadata": {
  "kernelspec": {
   "display_name": "Python 3",
   "language": "python",
   "name": "python3"
  },
  "language_info": {
   "codemirror_mode": {
    "name": "ipython",
    "version": 3
   },
   "file_extension": ".py",
   "mimetype": "text/x-python",
   "name": "python",
   "nbconvert_exporter": "python",
   "pygments_lexer": "ipython3",
   "version": "3.6.5"
  }
 },
 "nbformat": 4,
 "nbformat_minor": 2
}

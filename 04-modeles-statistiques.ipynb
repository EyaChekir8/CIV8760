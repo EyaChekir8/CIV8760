{
 "cells": [
  {
   "cell_type": "markdown",
   "metadata": {},
   "source": [
    "< [Module 4-1: Analyse statistique](04-statistiques.ipynb) | [Contents](index.ipynb) | [Module 4-3: Visualisation de données](04-visualisation.ipynb) >"
   ]
  },
  {
   "cell_type": "code",
   "execution_count": 1,
   "metadata": {},
   "outputs": [
    {
     "name": "stdout",
     "output_type": "stream",
     "text": [
      "Using matplotlib backend: TkAgg\n",
      "Populating the interactive namespace from numpy and matplotlib\n"
     ]
    },
    {
     "name": "stderr",
     "output_type": "stream",
     "text": [
      "/media/disk1/Research/Code/venv3/lib/python3.5/site-packages/statsmodels/compat/pandas.py:56: FutureWarning: The pandas.core.datetools module is deprecated and will be removed in a future version. Please use the pandas.tseries module instead.\n",
      "  from pandas.core import datetools\n"
     ]
    }
   ],
   "source": [
    "%pylab\n",
    "%matplotlib inline\n",
    "import statsmodels.api as sm\n",
    "import statsmodels.formula.api as smf\n",
    "import statsmodels.graphics as smg\n",
    "import pandas as pd\n",
    "from pandas.plotting import parallel_coordinates, scatter_matrix\n",
    "from scipy import stats\n"
   ]
  },
  {
   "cell_type": "markdown",
   "metadata": {},
   "source": [
    "# Analyse de la variance (ANOVA)"
   ]
  },
  {
   "cell_type": "code",
   "execution_count": 2,
   "metadata": {},
   "outputs": [
    {
     "name": "stdout",
     "output_type": "stream",
     "text": [
      "24.0 0.00804989310084\n",
      "4.29126983118 0.0240830838392\n"
     ]
    }
   ],
   "source": [
    "F, p = stats.f_oneway([1,2,3],[5,6,7])\n",
    "print(F, p)\n",
    "\n",
    "F, p = stats.f_oneway([25.6636147577, 26.8147042254, 26.5087485812, 26.0110693572, 26.1982930499, 25.0162178218, 25.4738536463, 25.7626961169, 26.2413388405, 26.6684925808],\n",
    "                      [26.9368238908, 26.7905458624, 26.0659696128, 25.8725323008, 26.67954654, 26.9751683032, 26.0701459549, 26.1627538932, 26.9750950622, 25.6773437008],\n",
    "                      [27.0405788466, 26.7461246306, 28.1998587517, 26.180994282, 27.4699458762, 26.2699015397, 26.1013955748, 27.9366444862, 26.1518355511, 26.4466845405])\n",
    "print(F, p)"
   ]
  },
  {
   "cell_type": "markdown",
   "metadata": {},
   "source": [
    "# Corrélation"
   ]
  },
  {
   "cell_type": "code",
   "execution_count": 2,
   "metadata": {},
   "outputs": [
    {
     "name": "stdout",
     "output_type": "stream",
     "text": [
      "<class 'pandas.core.frame.DataFrame'>\n",
      "RangeIndex: 38 entries, 0 to 37\n",
      "Data columns (total 8 columns):\n",
      "Country         38 non-null object\n",
      "Car             38 non-null object\n",
      "MPG             38 non-null float64\n",
      "Weight          38 non-null float64\n",
      "Drive_Ratio     38 non-null float64\n",
      "Horsepower      38 non-null int64\n",
      "Displacement    38 non-null int64\n",
      "Cylinders       38 non-null int64\n",
      "dtypes: float64(3), int64(3), object(2)\n",
      "memory usage: 2.5+ KB\n"
     ]
    }
   ],
   "source": [
    "# jeu de données de voitures http://lib.stat.cmu.edu/DASL/Datafiles/Cars.html\n",
    "data = pd.read_csv('cars.txt')\n",
    "data.info()"
   ]
  },
  {
   "cell_type": "code",
   "execution_count": 3,
   "metadata": {},
   "outputs": [
    {
     "data": {
      "text/html": [
       "<div>\n",
       "<style>\n",
       "    .dataframe thead tr:only-child th {\n",
       "        text-align: right;\n",
       "    }\n",
       "\n",
       "    .dataframe thead th {\n",
       "        text-align: left;\n",
       "    }\n",
       "\n",
       "    .dataframe tbody tr th {\n",
       "        vertical-align: top;\n",
       "    }\n",
       "</style>\n",
       "<table border=\"1\" class=\"dataframe\">\n",
       "  <thead>\n",
       "    <tr style=\"text-align: right;\">\n",
       "      <th></th>\n",
       "      <th>MPG</th>\n",
       "      <th>Weight</th>\n",
       "      <th>Drive_Ratio</th>\n",
       "      <th>Horsepower</th>\n",
       "      <th>Displacement</th>\n",
       "      <th>Cylinders</th>\n",
       "    </tr>\n",
       "  </thead>\n",
       "  <tbody>\n",
       "    <tr>\n",
       "      <th>MPG</th>\n",
       "      <td>1.000000</td>\n",
       "      <td>-0.903071</td>\n",
       "      <td>0.417225</td>\n",
       "      <td>-0.871282</td>\n",
       "      <td>-0.786048</td>\n",
       "      <td>-0.805511</td>\n",
       "    </tr>\n",
       "    <tr>\n",
       "      <th>Weight</th>\n",
       "      <td>-0.903071</td>\n",
       "      <td>1.000000</td>\n",
       "      <td>-0.687880</td>\n",
       "      <td>0.917220</td>\n",
       "      <td>0.950765</td>\n",
       "      <td>0.916678</td>\n",
       "    </tr>\n",
       "    <tr>\n",
       "      <th>Drive_Ratio</th>\n",
       "      <td>0.417225</td>\n",
       "      <td>-0.687880</td>\n",
       "      <td>1.000000</td>\n",
       "      <td>-0.588906</td>\n",
       "      <td>-0.798273</td>\n",
       "      <td>-0.692150</td>\n",
       "    </tr>\n",
       "    <tr>\n",
       "      <th>Horsepower</th>\n",
       "      <td>-0.871282</td>\n",
       "      <td>0.917220</td>\n",
       "      <td>-0.588906</td>\n",
       "      <td>1.000000</td>\n",
       "      <td>0.871799</td>\n",
       "      <td>0.863847</td>\n",
       "    </tr>\n",
       "    <tr>\n",
       "      <th>Displacement</th>\n",
       "      <td>-0.786048</td>\n",
       "      <td>0.950765</td>\n",
       "      <td>-0.798273</td>\n",
       "      <td>0.871799</td>\n",
       "      <td>1.000000</td>\n",
       "      <td>0.940281</td>\n",
       "    </tr>\n",
       "    <tr>\n",
       "      <th>Cylinders</th>\n",
       "      <td>-0.805511</td>\n",
       "      <td>0.916678</td>\n",
       "      <td>-0.692150</td>\n",
       "      <td>0.863847</td>\n",
       "      <td>0.940281</td>\n",
       "      <td>1.000000</td>\n",
       "    </tr>\n",
       "  </tbody>\n",
       "</table>\n",
       "</div>"
      ],
      "text/plain": [
       "                   MPG    Weight  Drive_Ratio  Horsepower  Displacement  \\\n",
       "MPG           1.000000 -0.903071     0.417225   -0.871282     -0.786048   \n",
       "Weight       -0.903071  1.000000    -0.687880    0.917220      0.950765   \n",
       "Drive_Ratio   0.417225 -0.687880     1.000000   -0.588906     -0.798273   \n",
       "Horsepower   -0.871282  0.917220    -0.588906    1.000000      0.871799   \n",
       "Displacement -0.786048  0.950765    -0.798273    0.871799      1.000000   \n",
       "Cylinders    -0.805511  0.916678    -0.692150    0.863847      0.940281   \n",
       "\n",
       "              Cylinders  \n",
       "MPG           -0.805511  \n",
       "Weight         0.916678  \n",
       "Drive_Ratio   -0.692150  \n",
       "Horsepower     0.863847  \n",
       "Displacement   0.940281  \n",
       "Cylinders      1.000000  "
      ]
     },
     "execution_count": 3,
     "metadata": {},
     "output_type": "execute_result"
    }
   ],
   "source": [
    "# coefficient de corrélation linéaire de Pearson\n",
    "pearsonCorr = data.corr()\n",
    "names = pearsonCorr.index.tolist()\n",
    "pearsonCorr"
   ]
  },
  {
   "cell_type": "code",
   "execution_count": 5,
   "metadata": {},
   "outputs": [
    {
     "data": {
      "text/plain": [
       "([<matplotlib.axis.YTick at 0x7f03521ad470>,\n",
       "  <matplotlib.axis.YTick at 0x7f03521ad710>,\n",
       "  <matplotlib.axis.YTick at 0x7f035219fcc0>,\n",
       "  <matplotlib.axis.YTick at 0x7f03520f8198>,\n",
       "  <matplotlib.axis.YTick at 0x7f03520fe128>,\n",
       "  <matplotlib.axis.YTick at 0x7f03520f84a8>],\n",
       " <a list of 6 Text yticklabel objects>)"
      ]
     },
     "execution_count": 5,
     "metadata": {},
     "output_type": "execute_result"
    },
    {
     "data": {
      "text/plain": [
       "<matplotlib.figure.Figure at 0x7f03541edb70>"
      ]
     },
     "metadata": {},
     "output_type": "display_data"
    },
    {
     "data": {
      "image/png": "[encoded data removed]",
      "text/plain": [
       "<matplotlib.figure.Figure at 0x7f0354232828>"
      ]
     },
     "metadata": {},
     "output_type": "display_data"
    }
   ],
   "source": [
    "plt.figure()\n",
    "plt.matshow(pearsonCorr)\n",
    "plt.clim(-1.,1.)\n",
    "plt.colorbar()\n",
    "plt.xticks(range(len(names)), names, rotation=90)\n",
    "plt.yticks(range(len(names)), names)"
   ]
  },
  {
   "cell_type": "code",
   "execution_count": 6,
   "metadata": {},
   "outputs": [
    {
     "data": {
      "text/html": [
       "<div>\n",
       "<style>\n",
       "    .dataframe thead tr:only-child th {\n",
       "        text-align: right;\n",
       "    }\n",
       "\n",
       "    .dataframe thead th {\n",
       "        text-align: left;\n",
       "    }\n",
       "\n",
       "    .dataframe tbody tr th {\n",
       "        vertical-align: top;\n",
       "    }\n",
       "</style>\n",
       "<table border=\"1\" class=\"dataframe\">\n",
       "  <thead>\n",
       "    <tr style=\"text-align: right;\">\n",
       "      <th></th>\n",
       "      <th>MPG</th>\n",
       "      <th>Weight</th>\n",
       "      <th>Drive_Ratio</th>\n",
       "      <th>Horsepower</th>\n",
       "      <th>Displacement</th>\n",
       "      <th>Cylinders</th>\n",
       "    </tr>\n",
       "  </thead>\n",
       "  <tbody>\n",
       "    <tr>\n",
       "      <th>MPG</th>\n",
       "      <td>1.000000</td>\n",
       "      <td>-0.937784</td>\n",
       "      <td>0.465140</td>\n",
       "      <td>-0.886450</td>\n",
       "      <td>-0.838471</td>\n",
       "      <td>-0.828359</td>\n",
       "    </tr>\n",
       "    <tr>\n",
       "      <th>Weight</th>\n",
       "      <td>-0.937784</td>\n",
       "      <td>1.000000</td>\n",
       "      <td>-0.634491</td>\n",
       "      <td>0.907140</td>\n",
       "      <td>0.944804</td>\n",
       "      <td>0.896497</td>\n",
       "    </tr>\n",
       "    <tr>\n",
       "      <th>Drive_Ratio</th>\n",
       "      <td>0.465140</td>\n",
       "      <td>-0.634491</td>\n",
       "      <td>1.000000</td>\n",
       "      <td>-0.602754</td>\n",
       "      <td>-0.797872</td>\n",
       "      <td>-0.646733</td>\n",
       "    </tr>\n",
       "    <tr>\n",
       "      <th>Horsepower</th>\n",
       "      <td>-0.886450</td>\n",
       "      <td>0.907140</td>\n",
       "      <td>-0.602754</td>\n",
       "      <td>1.000000</td>\n",
       "      <td>0.895518</td>\n",
       "      <td>0.847644</td>\n",
       "    </tr>\n",
       "    <tr>\n",
       "      <th>Displacement</th>\n",
       "      <td>-0.838471</td>\n",
       "      <td>0.944804</td>\n",
       "      <td>-0.797872</td>\n",
       "      <td>0.895518</td>\n",
       "      <td>1.000000</td>\n",
       "      <td>0.904697</td>\n",
       "    </tr>\n",
       "    <tr>\n",
       "      <th>Cylinders</th>\n",
       "      <td>-0.828359</td>\n",
       "      <td>0.896497</td>\n",
       "      <td>-0.646733</td>\n",
       "      <td>0.847644</td>\n",
       "      <td>0.904697</td>\n",
       "      <td>1.000000</td>\n",
       "    </tr>\n",
       "  </tbody>\n",
       "</table>\n",
       "</div>"
      ],
      "text/plain": [
       "                   MPG    Weight  Drive_Ratio  Horsepower  Displacement  \\\n",
       "MPG           1.000000 -0.937784     0.465140   -0.886450     -0.838471   \n",
       "Weight       -0.937784  1.000000    -0.634491    0.907140      0.944804   \n",
       "Drive_Ratio   0.465140 -0.634491     1.000000   -0.602754     -0.797872   \n",
       "Horsepower   -0.886450  0.907140    -0.602754    1.000000      0.895518   \n",
       "Displacement -0.838471  0.944804    -0.797872    0.895518      1.000000   \n",
       "Cylinders    -0.828359  0.896497    -0.646733    0.847644      0.904697   \n",
       "\n",
       "              Cylinders  \n",
       "MPG           -0.828359  \n",
       "Weight         0.896497  \n",
       "Drive_Ratio   -0.646733  \n",
       "Horsepower     0.847644  \n",
       "Displacement   0.904697  \n",
       "Cylinders      1.000000  "
      ]
     },
     "execution_count": 6,
     "metadata": {},
     "output_type": "execute_result"
    }
   ],
   "source": [
    "spearmanCorr = data.corr('spearman')\n",
    "names = spearmanCorr.index.tolist()\n",
    "spearmanCorr"
   ]
  },
  {
   "cell_type": "code",
   "execution_count": 7,
   "metadata": {},
   "outputs": [
    {
     "data": {
      "text/plain": [
       "([<matplotlib.axis.YTick at 0x7f035205c358>,\n",
       "  <matplotlib.axis.YTick at 0x7f0352052860>,\n",
       "  <matplotlib.axis.YTick at 0x7f0351ffdc50>,\n",
       "  <matplotlib.axis.YTick at 0x7f0351ff1ef0>,\n",
       "  <matplotlib.axis.YTick at 0x7f0352000d68>,\n",
       "  <matplotlib.axis.YTick at 0x7f0352005908>],\n",
       " <a list of 6 Text yticklabel objects>)"
      ]
     },
     "execution_count": 7,
     "metadata": {},
     "output_type": "execute_result"
    },
    {
     "data": {
      "text/plain": [
       "<matplotlib.figure.Figure at 0x7f039864c160>"
      ]
     },
     "metadata": {},
     "output_type": "display_data"
    },
    {
     "data": {
      "image/png": "[encoded data removed]",
      "text/plain": [
       "<matplotlib.figure.Figure at 0x7f039864c0f0>"
      ]
     },
     "metadata": {},
     "output_type": "display_data"
    }
   ],
   "source": [
    "plt.figure()\n",
    "plt.matshow(spearmanCorr)\n",
    "plt.clim(-1.,1.)\n",
    "plt.colorbar()\n",
    "plt.xticks(range(len(names)), names, rotation=90)\n",
    "plt.yticks(range(len(names)), names)"
   ]
  },
  {
   "cell_type": "code",
   "execution_count": 8,
   "metadata": {},
   "outputs": [
    {
     "data": {
      "text/html": [
       "<div>\n",
       "<style>\n",
       "    .dataframe thead tr:only-child th {\n",
       "        text-align: right;\n",
       "    }\n",
       "\n",
       "    .dataframe thead th {\n",
       "        text-align: left;\n",
       "    }\n",
       "\n",
       "    .dataframe tbody tr th {\n",
       "        vertical-align: top;\n",
       "    }\n",
       "</style>\n",
       "<table border=\"1\" class=\"dataframe\">\n",
       "  <thead>\n",
       "    <tr style=\"text-align: right;\">\n",
       "      <th></th>\n",
       "      <th>MPG</th>\n",
       "      <th>Weight</th>\n",
       "      <th>Drive_Ratio</th>\n",
       "      <th>Horsepower</th>\n",
       "      <th>Displacement</th>\n",
       "      <th>Cylinders</th>\n",
       "    </tr>\n",
       "  </thead>\n",
       "  <tbody>\n",
       "    <tr>\n",
       "      <th>MPG</th>\n",
       "      <td>0.000000</td>\n",
       "      <td>0.034713</td>\n",
       "      <td>-0.047915</td>\n",
       "      <td>0.015168</td>\n",
       "      <td>0.052423</td>\n",
       "      <td>0.022848</td>\n",
       "    </tr>\n",
       "    <tr>\n",
       "      <th>Weight</th>\n",
       "      <td>0.034713</td>\n",
       "      <td>0.000000</td>\n",
       "      <td>-0.053389</td>\n",
       "      <td>0.010081</td>\n",
       "      <td>0.005961</td>\n",
       "      <td>0.020180</td>\n",
       "    </tr>\n",
       "    <tr>\n",
       "      <th>Drive_Ratio</th>\n",
       "      <td>-0.047915</td>\n",
       "      <td>-0.053389</td>\n",
       "      <td>0.000000</td>\n",
       "      <td>0.013847</td>\n",
       "      <td>-0.000401</td>\n",
       "      <td>-0.045417</td>\n",
       "    </tr>\n",
       "    <tr>\n",
       "      <th>Horsepower</th>\n",
       "      <td>0.015168</td>\n",
       "      <td>0.010081</td>\n",
       "      <td>0.013847</td>\n",
       "      <td>0.000000</td>\n",
       "      <td>-0.023719</td>\n",
       "      <td>0.016203</td>\n",
       "    </tr>\n",
       "    <tr>\n",
       "      <th>Displacement</th>\n",
       "      <td>0.052423</td>\n",
       "      <td>0.005961</td>\n",
       "      <td>-0.000401</td>\n",
       "      <td>-0.023719</td>\n",
       "      <td>0.000000</td>\n",
       "      <td>0.035584</td>\n",
       "    </tr>\n",
       "    <tr>\n",
       "      <th>Cylinders</th>\n",
       "      <td>0.022848</td>\n",
       "      <td>0.020180</td>\n",
       "      <td>-0.045417</td>\n",
       "      <td>0.016203</td>\n",
       "      <td>0.035584</td>\n",
       "      <td>0.000000</td>\n",
       "    </tr>\n",
       "  </tbody>\n",
       "</table>\n",
       "</div>"
      ],
      "text/plain": [
       "                   MPG    Weight  Drive_Ratio  Horsepower  Displacement  \\\n",
       "MPG           0.000000  0.034713    -0.047915    0.015168      0.052423   \n",
       "Weight        0.034713  0.000000    -0.053389    0.010081      0.005961   \n",
       "Drive_Ratio  -0.047915 -0.053389     0.000000    0.013847     -0.000401   \n",
       "Horsepower    0.015168  0.010081     0.013847    0.000000     -0.023719   \n",
       "Displacement  0.052423  0.005961    -0.000401   -0.023719      0.000000   \n",
       "Cylinders     0.022848  0.020180    -0.045417    0.016203      0.035584   \n",
       "\n",
       "              Cylinders  \n",
       "MPG            0.022848  \n",
       "Weight         0.020180  \n",
       "Drive_Ratio   -0.045417  \n",
       "Horsepower     0.016203  \n",
       "Displacement   0.035584  \n",
       "Cylinders      0.000000  "
      ]
     },
     "execution_count": 8,
     "metadata": {},
     "output_type": "execute_result"
    }
   ],
   "source": [
    "pearsonCorr-spearmanCorr"
   ]
  },
  {
   "cell_type": "code",
   "execution_count": 9,
   "metadata": {},
   "outputs": [
    {
     "data": {
      "text/plain": [
       "([<matplotlib.axis.YTick at 0x7f03520c4390>,\n",
       "  <matplotlib.axis.YTick at 0x7f03520a5e80>,\n",
       "  <matplotlib.axis.YTick at 0x7f0351faf080>,\n",
       "  <matplotlib.axis.YTick at 0x7f0351ecee10>,\n",
       "  <matplotlib.axis.YTick at 0x7f0351ed26a0>,\n",
       "  <matplotlib.axis.YTick at 0x7f0351ed5240>],\n",
       " <a list of 6 Text yticklabel objects>)"
      ]
     },
     "execution_count": 9,
     "metadata": {},
     "output_type": "execute_result"
    },
    {
     "data": {
      "text/plain": [
       "<matplotlib.figure.Figure at 0x7f0351ff1390>"
      ]
     },
     "metadata": {},
     "output_type": "display_data"
    },
    {
     "data": {
      "image/png": "[encoded data removed]",
      "text/plain": [
       "<matplotlib.figure.Figure at 0x7f0351ff1780>"
      ]
     },
     "metadata": {},
     "output_type": "display_data"
    }
   ],
   "source": [
    "plt.figure()\n",
    "plt.matshow(pearsonCorr-spearmanCorr)\n",
    "plt.colorbar()\n",
    "plt.xticks(range(len(names)), names, rotation=90)\n",
    "plt.yticks(range(len(names)), names)"
   ]
  },
  {
   "cell_type": "code",
   "execution_count": 10,
   "metadata": {},
   "outputs": [
    {
     "data": {
      "text/plain": [
       "<matplotlib.text.Text at 0x7f0351295710>"
      ]
     },
     "execution_count": 10,
     "metadata": {},
     "output_type": "execute_result"
    },
    {
     "data": {
      "text/plain": [
       "<matplotlib.figure.Figure at 0x7f0351f457f0>"
      ]
     },
     "metadata": {},
     "output_type": "display_data"
    },
    {
     "data": {
      "image/png": "[encoded data removed]",
      "text/plain": [
       "<matplotlib.figure.Figure at 0x7f0351ed2d30>"
      ]
     },
     "metadata": {},
     "output_type": "display_data"
    },
    {
     "data": {
      "image/png": "[encoded data removed]",
      "text/plain": [
       "<matplotlib.figure.Figure at 0x7f0351fc87b8>"
      ]
     },
     "metadata": {},
     "output_type": "display_data"
    }
   ],
   "source": [
    "plt.figure()\n",
    "scatter_matrix(data[names], diagonal='kde')\n",
    "plt.figure()\n",
    "plt.scatter(data.Weight, data.Horsepower)\n",
    "plt.xlabel('Weight')\n",
    "plt.ylabel('Horsepower')"
   ]
  },
  {
   "cell_type": "markdown",
   "metadata": {},
   "source": [
    "# Régression linéaire"
   ]
  },
  {
   "cell_type": "code",
   "execution_count": 11,
   "metadata": {},
   "outputs": [
    {
     "name": "stdout",
     "output_type": "stream",
     "text": [
      "                            OLS Regression Results                            \n",
      "==============================================================================\n",
      "Dep. Variable:                    MPG   R-squared:                       0.759\n",
      "Model:                            OLS   Adj. R-squared:                  0.752\n",
      "Method:                 Least Squares   F-statistic:                     113.5\n",
      "Date:                Tue, 07 Nov 2017   Prob (F-statistic):           1.12e-12\n",
      "Time:                        00:57:33   Log-Likelihood:                -97.770\n",
      "No. Observations:                  38   AIC:                             199.5\n",
      "Df Residuals:                      36   BIC:                             202.8\n",
      "Df Model:                           1                                         \n",
      "Covariance Type:            nonrobust                                         \n",
      "==============================================================================\n",
      "                 coef    std err          t      P>|t|      [0.025      0.975]\n",
      "------------------------------------------------------------------------------\n",
      "Intercept     46.7066      2.127     21.959      0.000      42.393      51.020\n",
      "Horsepower    -0.2157      0.020    -10.652      0.000      -0.257      -0.175\n",
      "==============================================================================\n",
      "Omnibus:                        0.998   Durbin-Watson:                   1.118\n",
      "Prob(Omnibus):                  0.607   Jarque-Bera (JB):                0.678\n",
      "Skew:                           0.326   Prob(JB):                        0.713\n",
      "Kurtosis:                       2.943   Cond. No.                         423.\n",
      "==============================================================================\n",
      "\n",
      "Warnings:\n",
      "[1] Standard Errors assume that the covariance matrix of the errors is correctly specified.\n"
     ]
    },
    {
     "data": {
      "text/plain": [
       "<matplotlib.figure.Figure at 0x7f03986b3ba8>"
      ]
     },
     "metadata": {},
     "output_type": "display_data"
    },
    {
     "data": {
      "image/png": "[encoded data removed]",
      "text/plain": [
       "<matplotlib.figure.Figure at 0x7f035145a390>"
      ]
     },
     "metadata": {},
     "output_type": "display_data"
    },
    {
     "data": {
      "text/plain": [
       "<matplotlib.figure.Figure at 0x7f035145a550>"
      ]
     },
     "metadata": {},
     "output_type": "display_data"
    },
    {
     "data": {
      "image/png": "[encoded data removed]",
      "text/plain": [
       "<matplotlib.figure.Figure at 0x7f03501ed160>"
      ]
     },
     "metadata": {},
     "output_type": "display_data"
    },
    {
     "data": {
      "image/png": "[encoded data removed]",
      "text/plain": [
       "<matplotlib.figure.Figure at 0x7f03501edbe0>"
      ]
     },
     "metadata": {},
     "output_type": "display_data"
    }
   ],
   "source": [
    "model = smf.ols('MPG ~ Horsepower', data = data)\n",
    "results = model.fit()\n",
    "print(results.summary())\n",
    "plt.figure()\n",
    "smg.regressionplots.plot_fit(results,1)\n",
    "plt.figure()\n",
    "#smg.regressionplots.plot_regress_exog(results, 'Horsepower')\n",
    "plt.figure()\n",
    "plt.hist(results.resid)\n",
    "plt.title('test normalité: {}'.format(stats.normaltest(results.resid)))#, stats.jarque_bera(results.resid)\n",
    "plt.figure()\n",
    "plt.scatter(results.fittedvalues, results.resid)\n",
    "plt.xlabel('Valeurs prédites')\n",
    "plt.ylabel('Résidus')\n",
    "plt.grid()"
   ]
  },
  {
   "cell_type": "code",
   "execution_count": 12,
   "metadata": {},
   "outputs": [
    {
     "name": "stdout",
     "output_type": "stream",
     "text": [
      "                            OLS Regression Results                            \n",
      "==============================================================================\n",
      "Dep. Variable:                    MPG   R-squared:                       0.347\n",
      "Model:                            OLS   Adj. R-squared:                  0.245\n",
      "Method:                 Least Squares   F-statistic:                     3.406\n",
      "Date:                Tue, 07 Nov 2017   Prob (F-statistic):             0.0140\n",
      "Time:                        00:57:33   Log-Likelihood:                -116.71\n",
      "No. Observations:                  38   AIC:                             245.4\n",
      "Df Residuals:                      32   BIC:                             255.2\n",
      "Df Model:                           5                                         \n",
      "Covariance Type:            nonrobust                                         \n",
      "======================================================================================\n",
      "                         coef    std err          t      P>|t|      [0.025      0.975]\n",
      "--------------------------------------------------------------------------------------\n",
      "Intercept             16.2000      5.688      2.848      0.008       4.615      27.785\n",
      "Country[T.Germany]    10.9400      6.230      1.756      0.089      -1.751      23.631\n",
      "Country[T.Italy]      21.1000      8.043      2.623      0.013       4.716      37.484\n",
      "Country[T.Japan]      13.4000      6.080      2.204      0.035       1.015      25.785\n",
      "Country[T.Sweden]      3.1000      6.966      0.445      0.659     -11.089      17.289\n",
      "Country[T.U.S.]        6.7955      5.815      1.169      0.251      -5.050      18.641\n",
      "==============================================================================\n",
      "Omnibus:                        4.233   Durbin-Watson:                   1.131\n",
      "Prob(Omnibus):                  0.120   Jarque-Bera (JB):                2.189\n",
      "Skew:                           0.314   Prob(JB):                        0.335\n",
      "Kurtosis:                       2.006   Cond. No.                         18.6\n",
      "==============================================================================\n",
      "\n",
      "Warnings:\n",
      "[1] Standard Errors assume that the covariance matrix of the errors is correctly specified.\n",
      "          MPG                                                      \n",
      "        count       mean       std   min     25%   50%    75%   max\n",
      "Country                                                            \n",
      "France    1.0  16.200000       NaN  16.2  16.200  16.2  16.20  16.2\n",
      "Germany   5.0  27.140000  5.734806  20.3  21.500  30.5  31.50  31.9\n",
      "Italy     1.0  37.300000       NaN  37.3  37.300  37.3  37.30  37.3\n",
      "Japan     7.0  29.600000  4.532843  22.0  27.350  29.5  32.95  35.1\n",
      "Sweden    2.0  19.300000  3.252691  17.0  18.150  19.3  20.45  21.6\n",
      "U.S.     22.0  22.995455  6.054237  15.5  18.125  20.7  28.15  34.2\n",
      "Résultats de l'ANOVA 3.40637005365 0.0140295495064\n"
     ]
    }
   ],
   "source": [
    "model = smf.ols('MPG ~ Country', data = data)\n",
    "results = model.fit()\n",
    "print(results.summary())\n",
    "\n",
    "dataByCountry = []\n",
    "for name, grouped in data.groupby(['Country']):\n",
    "    dataByCountry.append(grouped['MPG'].tolist())\n",
    "F, p = stats.f_oneway(*dataByCountry)\n",
    "print(data[['Country','MPG']].groupby(['Country']).describe())\n",
    "print('Résultats de l\\'ANOVA',F, p)"
   ]
  },
  {
   "cell_type": "code",
   "execution_count": 13,
   "metadata": {
    "scrolled": true
   },
   "outputs": [
    {
     "name": "stdout",
     "output_type": "stream",
     "text": [
      "                            OLS Regression Results                            \n",
      "==============================================================================\n",
      "Dep. Variable:                    MPG   R-squared:                       0.347\n",
      "Model:                            OLS   Adj. R-squared:                  0.245\n",
      "Method:                 Least Squares   F-statistic:                     3.406\n",
      "Date:                Tue, 07 Nov 2017   Prob (F-statistic):             0.0140\n",
      "Time:                        00:57:33   Log-Likelihood:                -116.71\n",
      "No. Observations:                  38   AIC:                             245.4\n",
      "Df Residuals:                      32   BIC:                             255.2\n",
      "Df Model:                           5                                         \n",
      "Covariance Type:            nonrobust                                         \n",
      "===================================================================================\n",
      "                      coef    std err          t      P>|t|      [0.025      0.975]\n",
      "-----------------------------------------------------------------------------------\n",
      "Intercept          16.2000      5.688      2.848      0.008       4.615      27.785\n",
      "Germany[T.True]    10.9400      6.230      1.756      0.089      -1.751      23.631\n",
      "Italy[T.True]      21.1000      8.043      2.623      0.013       4.716      37.484\n",
      "Japan[T.True]      13.4000      6.080      2.204      0.035       1.015      25.785\n",
      "Sweden[T.True]      3.1000      6.966      0.445      0.659     -11.089      17.289\n",
      "US[T.True]          6.7955      5.815      1.169      0.251      -5.050      18.641\n",
      "==============================================================================\n",
      "Omnibus:                        4.233   Durbin-Watson:                   1.131\n",
      "Prob(Omnibus):                  0.120   Jarque-Bera (JB):                2.189\n",
      "Skew:                           0.314   Prob(JB):                        0.335\n",
      "Kurtosis:                       2.006   Cond. No.                         18.6\n",
      "==============================================================================\n",
      "\n",
      "Warnings:\n",
      "[1] Standard Errors assume that the covariance matrix of the errors is correctly specified.\n"
     ]
    }
   ],
   "source": [
    "# exemple de création des variables binaires correspondantes\n",
    "for c in data.Country.unique():\n",
    "    data[c] = (data['Country'] == c)\n",
    "data['US']=data['U.S.']\n",
    "\n",
    "model = smf.ols('MPG ~ Germany + Italy + Japan + Sweden + US', data = data)\n",
    "results = model.fit()\n",
    "print(results.summary())"
   ]
  },
  {
   "cell_type": "code",
   "execution_count": 14,
   "metadata": {},
   "outputs": [
    {
     "name": "stdout",
     "output_type": "stream",
     "text": [
      "                            OLS Regression Results                            \n",
      "==============================================================================\n",
      "Dep. Variable:                    MPG   R-squared:                       0.907\n",
      "Model:                            OLS   Adj. R-squared:                  0.893\n",
      "Method:                 Least Squares   F-statistic:                     62.48\n",
      "Date:                Tue, 07 Nov 2017   Prob (F-statistic):           1.45e-15\n",
      "Time:                        00:57:33   Log-Likelihood:                -79.673\n",
      "No. Observations:                  38   AIC:                             171.3\n",
      "Df Residuals:                      32   BIC:                             181.2\n",
      "Df Model:                           5                                         \n",
      "Covariance Type:            nonrobust                                         \n",
      "================================================================================\n",
      "                   coef    std err          t      P>|t|      [0.025      0.975]\n",
      "--------------------------------------------------------------------------------\n",
      "Intercept       69.2205      4.626     14.963      0.000      59.797      78.644\n",
      "Weight         -11.3769      2.033     -5.596      0.000     -15.518      -7.236\n",
      "Drive_Ratio     -3.3454      1.271     -2.631      0.013      -5.935      -0.756\n",
      "Horsepower      -0.0448      0.034     -1.302      0.202      -0.115       0.025\n",
      "Displacement     0.0332      0.020      1.650      0.109      -0.008       0.074\n",
      "Cylinders       -0.5318      0.686     -0.775      0.444      -1.930       0.866\n",
      "==============================================================================\n",
      "Omnibus:                        9.741   Durbin-Watson:                   1.498\n",
      "Prob(Omnibus):                  0.008   Jarque-Bera (JB):                8.932\n",
      "Skew:                           0.958   Prob(JB):                       0.0115\n",
      "Kurtosis:                       4.402   Cond. No.                     3.04e+03\n",
      "==============================================================================\n",
      "\n",
      "Warnings:\n",
      "[1] Standard Errors assume that the covariance matrix of the errors is correctly specified.\n",
      "[2] The condition number is large, 3.04e+03. This might indicate that there are\n",
      "strong multicollinearity or other numerical problems.\n"
     ]
    },
    {
     "data": {
      "text/plain": [
       "<matplotlib.figure.Figure at 0x7f035159f550>"
      ]
     },
     "metadata": {},
     "output_type": "display_data"
    },
    {
     "data": {
      "image/png": "[encoded data removed]",
      "text/plain": [
       "<matplotlib.figure.Figure at 0x7f0351a88048>"
      ]
     },
     "metadata": {},
     "output_type": "display_data"
    },
    {
     "data": {
      "text/plain": [
       "<matplotlib.figure.Figure at 0x7f035006d3c8>"
      ]
     },
     "metadata": {},
     "output_type": "display_data"
    },
    {
     "data": {
      "image/png": "[encoded data removed]",
      "text/plain": [
       "<matplotlib.figure.Figure at 0x7f035006d4a8>"
      ]
     },
     "metadata": {},
     "output_type": "display_data"
    },
    {
     "data": {
      "image/png": "[encoded data removed]",
      "text/plain": [
       "<matplotlib.figure.Figure at 0x7f0350069780>"
      ]
     },
     "metadata": {},
     "output_type": "display_data"
    }
   ],
   "source": [
    "model = smf.ols('MPG ~ Weight + Drive_Ratio + Horsepower + Displacement + Cylinders', data = data) # data = data[1:]\n",
    "#C(Cylinders)\n",
    "results = model.fit()\n",
    "print(results.summary())\n",
    "plt.figure()\n",
    "smg.regressionplots.plot_fit(results,1)\n",
    "plt.figure()\n",
    "#smg.regressionplots.plot_regress_exog(results, 'Horsepower')\n",
    "plt.figure()\n",
    "plt.hist(results.resid)\n",
    "plt.title('test normalité: {}'.format(stats.normaltest(results.resid)))#, stats.jarque_bera(results.resid)\n",
    "plt.figure()\n",
    "plt.scatter(results.fittedvalues, results.resid)\n",
    "plt.xlabel('Valeurs prédites')\n",
    "plt.ylabel('Résidus')\n",
    "plt.grid()"
   ]
  },
  {
   "cell_type": "code",
   "execution_count": 15,
   "metadata": {},
   "outputs": [
    {
     "name": "stdout",
     "output_type": "stream",
     "text": [
      "                            OLS Regression Results                            \n",
      "==============================================================================\n",
      "Dep. Variable:                    MPG   R-squared:                       0.895\n",
      "Model:                            OLS   Adj. R-squared:                  0.888\n",
      "Method:                 Least Squares   F-statistic:                     148.4\n",
      "Date:                Tue, 07 Nov 2017   Prob (F-statistic):           8.05e-18\n",
      "Time:                        00:57:34   Log-Likelihood:                -82.082\n",
      "No. Observations:                  38   AIC:                             170.2\n",
      "Df Residuals:                      35   BIC:                             175.1\n",
      "Df Model:                           2                                         \n",
      "Covariance Type:            nonrobust                                         \n",
      "===============================================================================\n",
      "                  coef    std err          t      P>|t|      [0.025      0.975]\n",
      "-------------------------------------------------------------------------------\n",
      "Intercept      70.9191      4.590     15.450      0.000      61.600      80.238\n",
      "Weight        -10.8315      0.701    -15.461      0.000     -12.254      -9.409\n",
      "Drive_Ratio    -4.8972      0.957     -5.119      0.000      -6.839      -2.955\n",
      "==============================================================================\n",
      "Omnibus:                       10.133   Durbin-Watson:                   1.450\n",
      "Prob(Omnibus):                  0.006   Jarque-Bera (JB):                9.293\n",
      "Skew:                           1.020   Prob(JB):                      0.00960\n",
      "Kurtosis:                       4.306   Cond. No.                         57.8\n",
      "==============================================================================\n",
      "\n",
      "Warnings:\n",
      "[1] Standard Errors assume that the covariance matrix of the errors is correctly specified.\n"
     ]
    },
    {
     "data": {
      "image/png": "[encoded data removed]",
      "text/plain": [
       "<matplotlib.figure.Figure at 0x7f0350057a20>"
      ]
     },
     "metadata": {},
     "output_type": "display_data"
    }
   ],
   "source": [
    "model = smf.ols('MPG ~ Weight + Drive_Ratio', data = data)\n",
    "#C(Cylinders)\n",
    "results = model.fit()\n",
    "print(results.summary())\n",
    "plt.figure()\n",
    "plt.scatter(results.fittedvalues, results.resid)\n",
    "plt.xlabel('Valeurs prédites')\n",
    "plt.ylabel('Résidus')\n",
    "plt.grid()"
   ]
  },
  {
   "cell_type": "markdown",
   "metadata": {},
   "source": [
    "# Modèles de choix discret"
   ]
  },
  {
   "cell_type": "code",
   "execution_count": 24,
   "metadata": {},
   "outputs": [
    {
     "data": {
      "text/plain": [
       "['MPG', 'Weight', 'Drive_Ratio', 'Horsepower', 'Displacement', 'Cylinders']"
      ]
     },
     "execution_count": 24,
     "metadata": {},
     "output_type": "execute_result"
    }
   ],
   "source": [
    "# jeux de donnees cars\n",
    "data['MPG0'] = data['MPG']>data['MPG'].median()\n",
    "#data.describe()\n",
    "data[['Country','Car','MPG0']].describe()"
   ]
  },
  {
   "cell_type": "code",
   "execution_count": 27,
   "metadata": {},
   "outputs": [
    {
     "name": "stdout",
     "output_type": "stream",
     "text": [
      "Optimization terminated successfully.\n",
      "         Current function value: 0.396328\n",
      "         Iterations 7\n",
      "                           Logit Regression Results                           \n",
      "==============================================================================\n",
      "Dep. Variable:                   MPG0   No. Observations:                   38\n",
      "Model:                          Logit   Df Residuals:                       33\n",
      "Method:                           MLE   Df Model:                            4\n",
      "Date:                Tue, 07 Nov 2017   Pseudo R-squ.:                  0.4282\n",
      "Time:                        09:55:15   Log-Likelihood:                -15.060\n",
      "converged:                       True   LL-Null:                       -26.340\n",
      "                                        LLR p-value:                 0.0001551\n",
      "================================================================================\n",
      "                   coef    std err          z      P>|z|      [0.025      0.975]\n",
      "--------------------------------------------------------------------------------\n",
      "Weight          -3.7841      2.946     -1.284      0.199      -9.559       1.990\n",
      "Drive_Ratio      2.9777      1.331      2.238      0.025       0.370       5.586\n",
      "Horsepower      -0.0183      0.040     -0.461      0.645      -0.096       0.059\n",
      "Displacement     0.0313      0.031      1.001      0.317      -0.030       0.093\n",
      "Cylinders       -0.4158      0.831     -0.501      0.617      -2.044       1.213\n",
      "================================================================================\n"
     ]
    }
   ],
   "source": [
    "model = sm.Logit(data['MPG0'], data[['Weight', 'Drive_Ratio', 'Horsepower', 'Displacement', 'Cylinders']])\n",
    "results = model.fit()\n",
    "print(results.summary())"
   ]
  },
  {
   "cell_type": "code",
   "execution_count": 30,
   "metadata": {},
   "outputs": [
    {
     "name": "stdout",
     "output_type": "stream",
     "text": [
      "Optimization terminated successfully.\n",
      "         Current function value: 0.546565\n",
      "         Iterations 13\n",
      "                          MNLogit Regression Results                          \n",
      "==============================================================================\n",
      "Dep. Variable:                Country   No. Observations:                   38\n",
      "Model:                        MNLogit   Df Residuals:                       18\n",
      "Method:                           MLE   Df Model:                           15\n",
      "Date:                Tue, 07 Nov 2017   Pseudo R-squ.:                  0.5597\n",
      "Time:                        10:00:30   Log-Likelihood:                -20.769\n",
      "converged:                       True   LL-Null:                       -47.170\n",
      "                                        LLR p-value:                 4.159e-06\n",
      "================================================================================\n",
      "Country=Germany       coef    std err          z      P>|z|      [0.025      0.975]\n",
      "-----------------------------------------------------------------------------------\n",
      "Weight              2.1390      8.854      0.242      0.809     -15.215      19.493\n",
      "Horsepower          0.1004      0.212      0.474      0.635      -0.315       0.515\n",
      "Displacement       -0.2161      0.209     -1.032      0.302      -0.626       0.194\n",
      "Cylinders           2.5824      3.164      0.816      0.414      -3.619       8.784\n",
      "-----------------------------------------------------------------------------------\n",
      "Country=Italy       coef    std err          z      P>|z|      [0.025      0.975]\n",
      "---------------------------------------------------------------------------------\n",
      "Weight           61.7992     86.821      0.712      0.477    -108.367     231.965\n",
      "Horsepower       -0.3700      0.419     -0.883      0.377      -1.191       0.451\n",
      "Displacement     -0.9472      1.460     -0.649      0.517      -3.810       1.915\n",
      "Cylinders        -4.2652      8.861     -0.481      0.630     -21.632      13.102\n",
      "---------------------------------------------------------------------------------\n",
      "Country=Japan       coef    std err          z      P>|z|      [0.025      0.975]\n",
      "---------------------------------------------------------------------------------\n",
      "Weight           -1.8525      9.261     -0.200      0.841     -20.005      16.300\n",
      "Horsepower       -0.2517      0.214     -1.174      0.240      -0.672       0.169\n",
      "Displacement      0.1570      0.201      0.783      0.434      -0.236       0.550\n",
      "Cylinders         2.3481      3.121      0.752      0.452      -3.769       8.466\n",
      "---------------------------------------------------------------------------------\n",
      "Country=Sweden       coef    std err          z      P>|z|      [0.025      0.975]\n",
      "----------------------------------------------------------------------------------\n",
      "Weight            -1.8174      9.931     -0.183      0.855     -21.281      17.646\n",
      "Horsepower         0.0722      0.216      0.335      0.737      -0.350       0.495\n",
      "Displacement      -0.0024      0.190     -0.012      0.990      -0.375       0.370\n",
      "Cylinders         -0.4283      3.404     -0.126      0.900      -7.099       6.243\n",
      "----------------------------------------------------------------------------------\n",
      "Country=U.S.       coef    std err          z      P>|z|      [0.025      0.975]\n",
      "--------------------------------------------------------------------------------\n",
      "Weight          -0.0638      9.800     -0.007      0.995     -19.271      19.143\n",
      "Horsepower      -0.6874      0.389     -1.768      0.077      -1.449       0.075\n",
      "Displacement     0.4818      0.292      1.650      0.099      -0.090       1.054\n",
      "Cylinders        0.8002      3.455      0.232      0.817      -5.971       7.572\n",
      "================================================================================\n"
     ]
    }
   ],
   "source": [
    "model = sm.MNLogit(data['Country'], data[['Weight', 'Horsepower', 'Displacement', 'Cylinders']])\n",
    "results = model.fit()\n",
    "print(results.summary())"
   ]
  },
  {
   "cell_type": "code",
   "execution_count": 41,
   "metadata": {},
   "outputs": [
    {
     "name": "stdout",
     "output_type": "stream",
     "text": [
      "<class 'pandas.core.frame.DataFrame'>\n",
      "RangeIndex: 205 entries, 0 to 204\n",
      "Data columns (total 26 columns):\n",
      "normalized-losses    205 non-null float64\n",
      "make                 205 non-null object\n",
      "fuel-type            205 non-null object\n",
      "aspiration           205 non-null object\n",
      "num-of-doors         205 non-null object\n",
      "body-style           205 non-null object\n",
      "drive-wheels         205 non-null object\n",
      "engine-location      205 non-null object\n",
      "wheel-base           205 non-null float64\n",
      "length               205 non-null float64\n",
      "width                205 non-null float64\n",
      "height               205 non-null float64\n",
      "curb-weight          205 non-null float64\n",
      "engine-type          205 non-null object\n",
      "num-of-cylinders     205 non-null object\n",
      "engine-size          205 non-null float64\n",
      "fuel-system          205 non-null object\n",
      "bore                 205 non-null float64\n",
      "stroke               205 non-null float64\n",
      "compression-ratio    205 non-null float64\n",
      "horsepower           205 non-null float64\n",
      "peak-rpm             205 non-null float64\n",
      "city-mpg             205 non-null float64\n",
      "highway-mpg          205 non-null float64\n",
      "price                205 non-null float64\n",
      "symboling            205 non-null object\n",
      "dtypes: float64(15), object(11)\n",
      "memory usage: 41.7+ KB\n"
     ]
    },
    {
     "data": {
      "text/plain": [
       "array(['_3', '_1', '_2', '_0', '_-1', '_-2'], dtype=object)"
      ]
     },
     "execution_count": 41,
     "metadata": {},
     "output_type": "execute_result"
    }
   ],
   "source": [
    "# jeu de donnees autos\n",
    "autos = pd.read_csv('autos.txt', delimiter='\\t')\n",
    "autos.describe()\n",
    "autos.info()\n",
    "autos.symboling.unique()\n",
    "#autos['fuel-type'].unique()"
   ]
  },
  {
   "cell_type": "code",
   "execution_count": 40,
   "metadata": {},
   "outputs": [
    {
     "name": "stdout",
     "output_type": "stream",
     "text": [
      "Optimization terminated successfully.\n",
      "         Current function value: 1.267403\n",
      "         Iterations 9\n",
      "                          MNLogit Regression Results                          \n",
      "==============================================================================\n",
      "Dep. Variable:              symboling   No. Observations:                  205\n",
      "Model:                        MNLogit   Df Residuals:                      180\n",
      "Method:                           MLE   Df Model:                           20\n",
      "Date:                Tue, 07 Nov 2017   Pseudo R-squ.:                  0.1954\n",
      "Time:                        10:04:49   Log-Likelihood:                -259.82\n",
      "converged:                       True   LL-Null:                       -322.91\n",
      "                                        LLR p-value:                 2.022e-17\n",
      "================================================================================\n",
      "symboling=_-2       coef    std err          z      P>|z|      [0.025      0.975]\n",
      "---------------------------------------------------------------------------------\n",
      "price         -5.754e-05      0.000     -0.331      0.741      -0.000       0.000\n",
      "length            0.1874      0.126      1.492      0.136      -0.059       0.434\n",
      "width            -0.4363      0.398     -1.095      0.273      -1.217       0.344\n",
      "height           -0.0955      0.463     -0.206      0.836      -1.002       0.811\n",
      "engine-size      -0.0092      0.033     -0.282      0.778      -0.073       0.055\n",
      "---------------------------------------------------------------------------------\n",
      "symboling=_0       coef    std err          z      P>|z|      [0.025      0.975]\n",
      "--------------------------------------------------------------------------------\n",
      "price        -5.311e-05   6.03e-05     -0.881      0.379      -0.000    6.51e-05\n",
      "length          -0.0562      0.048     -1.181      0.238      -0.150       0.037\n",
      "width            0.1517      0.142      1.072      0.284      -0.126       0.429\n",
      "height           0.0138      0.138      0.100      0.920      -0.258       0.285\n",
      "engine-size      0.0088      0.013      0.695      0.487      -0.016       0.034\n",
      "--------------------------------------------------------------------------------\n",
      "symboling=_1       coef    std err          z      P>|z|      [0.025      0.975]\n",
      "--------------------------------------------------------------------------------\n",
      "price        -4.298e-05   7.61e-05     -0.565      0.572      -0.000       0.000\n",
      "length          -0.1926      0.055     -3.471      0.001      -0.301      -0.084\n",
      "width            0.8120      0.170      4.769      0.000       0.478       1.146\n",
      "height          -0.3102      0.160     -1.943      0.052      -0.623       0.003\n",
      "engine-size     -0.0136      0.017     -0.811      0.418      -0.046       0.019\n",
      "--------------------------------------------------------------------------------\n",
      "symboling=_2       coef    std err          z      P>|z|      [0.025      0.975]\n",
      "--------------------------------------------------------------------------------\n",
      "price        -9.789e-05   8.41e-05     -1.164      0.245      -0.000     6.7e-05\n",
      "length          -0.1620      0.058     -2.797      0.005      -0.275      -0.048\n",
      "width            0.5453      0.171      3.190      0.001       0.210       0.880\n",
      "height          -0.1189      0.162     -0.736      0.462      -0.436       0.198\n",
      "engine-size      0.0049      0.018      0.272      0.786      -0.030       0.040\n",
      "--------------------------------------------------------------------------------\n",
      "symboling=_3       coef    std err          z      P>|z|      [0.025      0.975]\n",
      "--------------------------------------------------------------------------------\n",
      "price            0.0001   7.32e-05      1.476      0.140   -3.54e-05       0.000\n",
      "length          -0.1233      0.063     -1.968      0.049      -0.246      -0.000\n",
      "width            1.0313      0.197      5.244      0.000       0.646       1.417\n",
      "height          -0.8195      0.196     -4.190      0.000      -1.203      -0.436\n",
      "engine-size     -0.0326      0.017     -1.954      0.051      -0.065    9.34e-05\n",
      "================================================================================\n"
     ]
    }
   ],
   "source": [
    "model = sm.MNLogit(autos['symboling'], autos[['price', 'length', 'width', 'height', 'engine-size']])\n",
    "results = model.fit()\n",
    "print(results.summary())"
   ]
  },
  {
   "cell_type": "code",
   "execution_count": 16,
   "metadata": {
    "collapsed": true
   },
   "outputs": [],
   "source": [
    "# Travel Mode Choice http://www.statsmodels.org/stable/datasets/generated/modechoice.html\n",
    "# mode =\n",
    "#        1 - air\n",
    "#        2 - train\n",
    "#        3 - bus\n",
    "#        4 - car\n",
    "modechoices = sm.datasets.modechoice.load_pandas()\n",
    "#print(modechoices.data.info())\n",
    "#modechoices.data.describe()\n",
    "data = modechoices.data[modechoices.data['choice'] == 1.].copy()\n",
    "#print(data.info(), data['mode'])\n",
    "#parallel_coordinates(data, 'mode')\n",
    "#res=scatter_matrix(data[['mode', 'ttme', 'invc', 'invt', 'gc', 'hinc', 'psize']], diagonal='kde')"
   ]
  },
  {
   "cell_type": "code",
   "execution_count": 17,
   "metadata": {},
   "outputs": [
    {
     "name": "stdout",
     "output_type": "stream",
     "text": [
      "            individual      mode  choice      ttme      invc      invt  \\\n",
      "individual    1.000000  0.104975     NaN -0.095073 -0.010584  0.005586   \n",
      "mode          0.104975  1.000000     NaN -0.693467 -0.751150  0.470729   \n",
      "choice             NaN       NaN     NaN       NaN       NaN       NaN   \n",
      "ttme         -0.095073 -0.693467     NaN  1.000000  0.630972 -0.224208   \n",
      "invc         -0.010584 -0.751150     NaN  0.630972  1.000000 -0.378400   \n",
      "invt          0.005586  0.470729     NaN -0.224208 -0.378400  1.000000   \n",
      "gc           -0.005248 -0.195573     NaN  0.318304  0.502565  0.576185   \n",
      "hinc          0.051693  0.071394     NaN -0.061134  0.114834 -0.125492   \n",
      "psize         0.046910  0.210923     NaN -0.142706 -0.210883  0.146518   \n",
      "\n",
      "                  gc      hinc     psize  \n",
      "individual -0.005248  0.051693  0.046910  \n",
      "mode       -0.195573  0.071394  0.210923  \n",
      "choice           NaN       NaN       NaN  \n",
      "ttme        0.318304 -0.061134 -0.142706  \n",
      "invc        0.502565  0.114834 -0.210883  \n",
      "invt        0.576185 -0.125492  0.146518  \n",
      "gc          1.000000  0.034101  0.115334  \n",
      "hinc        0.034101  1.000000  0.180963  \n",
      "psize       0.115334  0.180963  1.000000  \n",
      "Optimization terminated successfully.\n",
      "         Current function value: 0.274111\n",
      "         Iterations 8\n",
      "                           Logit Regression Results                           \n",
      "==============================================================================\n",
      "Dep. Variable:                    car   No. Observations:                  210\n",
      "Model:                          Logit   Df Residuals:                      207\n",
      "Method:                           MLE   Df Model:                            2\n",
      "Date:                Tue, 07 Nov 2017   Pseudo R-squ.:                  0.5384\n",
      "Time:                        00:57:34   Log-Likelihood:                -57.563\n",
      "converged:                       True   LL-Null:                       -124.71\n",
      "                                        LLR p-value:                 6.905e-30\n",
      "==============================================================================\n",
      "                 coef    std err          z      P>|z|      [0.025      0.975]\n",
      "------------------------------------------------------------------------------\n",
      "invc          -0.1237      0.019     -6.517      0.000      -0.161      -0.087\n",
      "hinc           0.0554      0.013      4.181      0.000       0.029       0.081\n",
      "psize          0.3623      0.220      1.643      0.100      -0.070       0.794\n",
      "==============================================================================\n",
      "\n",
      "Possibly complete quasi-separation: A fraction 0.13 of observations can be\n",
      "perfectly predicted. This might indicate that there is complete\n",
      "quasi-separation. In this case some parameters will not be identified.\n"
     ]
    }
   ],
   "source": [
    "print(data.corr())\n",
    "data['car'] = (data['mode'] == 4)\n",
    "model = sm.Logit(data['car'], data[['invc', 'hinc', 'psize']])\n",
    "results = model.fit()\n",
    "print(results.summary())"
   ]
  },
  {
   "cell_type": "code",
   "execution_count": 18,
   "metadata": {},
   "outputs": [
    {
     "name": "stdout",
     "output_type": "stream",
     "text": [
      "Optimization terminated successfully.\n",
      "         Current function value: 0.499751\n",
      "         Iterations 6\n",
      "                          MNLogit Regression Results                          \n",
      "==============================================================================\n",
      "Dep. Variable:                 choice   No. Observations:                  840\n",
      "Model:                        MNLogit   Df Residuals:                      834\n",
      "Method:                           MLE   Df Model:                            5\n",
      "Date:                Tue, 07 Nov 2017   Pseudo R-squ.:                  0.1113\n",
      "Time:                        00:57:34   Log-Likelihood:                -419.79\n",
      "converged:                       True   LL-Null:                       -472.36\n",
      "                                        LLR p-value:                 4.350e-21\n",
      "==============================================================================\n",
      "  choice=1       coef    std err          z      P>|z|      [0.025      0.975]\n",
      "------------------------------------------------------------------------------\n",
      "ttme          -0.0434      0.005     -8.972      0.000      -0.053      -0.034\n",
      "invc           0.0028      0.009      0.321      0.748      -0.014       0.020\n",
      "invt          -0.0038      0.001     -3.476      0.001      -0.006      -0.002\n",
      "gc             0.0163      0.009      1.910      0.056      -0.000       0.033\n",
      "hinc          -0.0014      0.004     -0.332      0.740      -0.010       0.007\n",
      "psize          0.1029      0.092      1.114      0.265      -0.078       0.284\n",
      "==============================================================================\n"
     ]
    }
   ],
   "source": [
    "model = sm.MNLogit(modechoices.endog, modechoices.exog)\n",
    "results = model.fit()\n",
    "print(results.summary())"
   ]
  },
  {
   "cell_type": "code",
   "execution_count": 19,
   "metadata": {
    "collapsed": true
   },
   "outputs": [],
   "source": [
    "# autres? modele logit binaire (probabilite de marcher) et multinomial (choix de mode / gravite des accidents)"
   ]
  }
 ],
 "metadata": {
  "kernelspec": {
   "display_name": "Python 3",
   "language": "python",
   "name": "python3"
  },
  "language_info": {
   "codemirror_mode": {
    "name": "ipython",
    "version": 3
   },
   "file_extension": ".py",
   "mimetype": "text/x-python",
   "name": "python",
   "nbconvert_exporter": "python",
   "pygments_lexer": "ipython3",
   "version": "3.5.2"
  }
 },
 "nbformat": 4,
 "nbformat_minor": 2
}

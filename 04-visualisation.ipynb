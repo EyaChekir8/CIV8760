{
 "cells": [
  {
   "cell_type": "markdown",
   "metadata": {},
   "source": [
    "< [Module 4-2: Modèles statistiques](04-modeles-statistiques.ipynb) | [Contents](index.ipynb) | [Module 5: Fouille de données](05-fouille-donnees.ipynb) >"
   ]
  },
  {
   "cell_type": "markdown",
   "metadata": {},
   "source": [
    "* Mobules Python matplotlib http://matplotlib.org/ et seaborn http://seaborn.pydata.org/\n",
    "* Bibliothèque Javascript https://d3js.org/"
   ]
  }
 ],
 "metadata": {
  "kernelspec": {
   "display_name": "Python 3",
   "language": "python",
   "name": "python3"
  },
  "language_info": {
   "codemirror_mode": {
    "name": "ipython",
    "version": 3
   },
   "file_extension": ".py",
   "mimetype": "text/x-python",
   "name": "python",
   "nbconvert_exporter": "python",
   "pygments_lexer": "ipython3",
   "version": "3.5.2"
  }
 },
 "nbformat": 4,
 "nbformat_minor": 2
}

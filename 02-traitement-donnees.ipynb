{
 "cells": [
  {
   "cell_type": "code",
   "execution_count": 1,
   "metadata": {
    "collapsed": true
   },
   "outputs": [],
   "source": [
    "# exemples de structures finies de données\n",
    "# chaîne de caractères\n",
    "s = \"Hello\"\n",
    "# booléen\n",
    "a = True\n",
    "b = False\n",
    "b == (not a) # True\n",
    "# entier\n",
    "x = 3\n",
    "# réel\n",
    "y = 3.4"
   ]
  },
  {
   "cell_type": "code",
   "execution_count": 2,
   "metadata": {},
   "outputs": [
    {
     "name": "stdout",
     "output_type": "stream",
     "text": [
      "Véhicule @ 1\n",
      "Piéton @ 10\n",
      "Cycliste @ 15\n"
     ]
    }
   ],
   "source": [
    "# classes\n",
    "class RoadUser:\n",
    "    def __init__(self, position, velocity):\n",
    "        self.name = ''\n",
    "        self.position = position        \n",
    "        self.velocity = velocity\n",
    "\n",
    "    def move(self, deltaT):\n",
    "        self.position += deltaT*self.velocity\n",
    "\n",
    "    def getType(self):\n",
    "        return 'User'\n",
    "\n",
    "    def __str__(self):\n",
    "        return '{} @ {}'.format(self.getType(), self.position)\n",
    "\n",
    "    def draw(self):\n",
    "        pass\n",
    "\n",
    "class PassengerVehicle(RoadUser):\n",
    "    def getType(self):\n",
    "        return 'Véhicule'\n",
    "\n",
    "class Pedestrian(RoadUser):\n",
    "    def getType(self):\n",
    "        return 'Piéton'\n",
    "\n",
    "class Cyclist(RoadUser):\n",
    "    def getType(self):\n",
    "        return 'Cycliste'\n",
    "\n",
    "roadUsers = [PassengerVehicle(1, 5.),\n",
    "             Pedestrian(10, 1.),\n",
    "             Cyclist(15, 2.)]\n",
    "\n",
    "for r in roadUsers:\n",
    "    print(r)"
   ]
  },
  {
   "cell_type": "code",
   "execution_count": 3,
   "metadata": {},
   "outputs": [
    {
     "name": "stdout",
     "output_type": "stream",
     "text": [
      "[[ 0.  0.  0.  0.  0.  0.]\n",
      " [ 0.  0.  0.  0.  0.  0.]\n",
      " [ 0.  0.  0.  0.  0.  0.]\n",
      " [ 0.  0.  0.  0.  0.  0.]\n",
      " [ 0.  0.  0.  0.  0.  0.]]\n",
      "[[ 0.4987191   0.80445076  0.68606554  0.46599499  0.63271615]\n",
      " [ 0.0505098   0.9523771   0.15390109  0.25901628  0.40710538]\n",
      " [ 0.28818518  0.36453859  0.00379964  0.73992508  0.31675416]\n",
      " [ 0.77844276  0.85454061  0.58040685  0.72009488  0.08668624]\n",
      " [ 0.4852676   0.52338677  0.42781466  0.78724556  0.92754711]]\n"
     ]
    }
   ],
   "source": [
    "# exemples de structures indexées de données\n",
    "# listes\n",
    "l = [3,4]\n",
    "m = list(range(10))\n",
    "# ensemble\n",
    "s = set(range(10))\n",
    "# matrices etc.\n",
    "import numpy as np\n",
    "m = np.zeros((5,6))\n",
    "print(m)\n",
    "m = np.random.random_sample(25).reshape(5, 5)\n",
    "print(m)\n",
    "# dictionnaire\n",
    "comptages = {'autos': 12, 'cyclistes': 45, 'piétons': 23}"
   ]
  },
  {
   "cell_type": "code",
   "execution_count": 20,
   "metadata": {},
   "outputs": [
    {
     "ename": "NameError",
     "evalue": "name 'G' is not defined",
     "output_type": "error",
     "traceback": [
      "\u001b[0;31m---------------------------------------------------------------------------\u001b[0m",
      "\u001b[0;31mNameError\u001b[0m                                 Traceback (most recent call last)",
      "\u001b[0;32m<ipython-input-20-fdea7da73b78>\u001b[0m in \u001b[0;36m<module>\u001b[0;34m()\u001b[0m\n\u001b[1;32m      7\u001b[0m \u001b[0;31m#ox.plot_graph(ox.graph_from_place('Modena, Italy'))\u001b[0m\u001b[0;34m\u001b[0m\u001b[0;34m\u001b[0m\u001b[0m\n\u001b[1;32m      8\u001b[0m \u001b[0;31m#G = ox.graph_from_address('2900 Bd Edouard Montpetit, Montreal, QC', network_type='drive')\u001b[0m\u001b[0;34m\u001b[0m\u001b[0;34m\u001b[0m\u001b[0m\n\u001b[0;32m----> 9\u001b[0;31m \u001b[0mox\u001b[0m\u001b[0;34m.\u001b[0m\u001b[0mplot_graph\u001b[0m\u001b[0;34m(\u001b[0m\u001b[0mG\u001b[0m\u001b[0;34m)\u001b[0m\u001b[0;34m\u001b[0m\u001b[0m\n\u001b[0m\u001b[1;32m     10\u001b[0m \u001b[0mox\u001b[0m\u001b[0;34m.\u001b[0m\u001b[0mbasic_stats\u001b[0m\u001b[0;34m(\u001b[0m\u001b[0mG\u001b[0m\u001b[0;34m)\u001b[0m\u001b[0;34m\u001b[0m\u001b[0m\n\u001b[1;32m     11\u001b[0m \u001b[0;31m#ox.extended_stats(G, bc=True)\u001b[0m\u001b[0;34m\u001b[0m\u001b[0;34m\u001b[0m\u001b[0m\n",
      "\u001b[0;31mNameError\u001b[0m: name 'G' is not defined"
     ]
    }
   ],
   "source": [
    "# exemples de structures récursives\n",
    "%matplotlib inline\n",
    "import matplotlib.pyplot as plt\n",
    "import numpy as np\n",
    "import networkx as nx\n",
    "import osmnx as ox\n",
    "#ox.plot_graph(ox.graph_from_place('Modena, Italy'))\n",
    "#G = ox.graph_from_address('2900 Bd Edouard Montpetit, Montreal, QC', network_type='drive')\n",
    "ox.plot_graph(G)\n",
    "ox.basic_stats(G)\n",
    "#ox.extended_stats(G, bc=True)"
   ]
  },
  {
   "cell_type": "code",
   "execution_count": 5,
   "metadata": {},
   "outputs": [
    {
     "data": {
      "text/plain": [
       "[[1765630403, 209387156],\n",
       " [29517073, 213572939, 213572965],\n",
       " [209377834, 29452651, 2480804071],\n",
       " [213572937, 213572955, 213572965],\n",
       " [3165394666, 209387091, 1573705335],\n",
       " [1975853548],\n",
       " [31700077],\n",
       " [31700076, 213649390, 31700055],\n",
       " [300103857, 213666597, 29452641],\n",
       " [4520745137],\n",
       " [29796842],\n",
       " [1765630401, 1765630398, 30453569],\n",
       " [4520704485, 1765630398],\n",
       " [303433230, 31700078, 31700055],\n",
       " [213538679],\n",
       " [213486192, 289446101],\n",
       " [2485523864, 2485523862],\n",
       " [213476586, 31461030, 31704574],\n",
       " [213476584, 213476586],\n",
       " [289445691, 213486197],\n",
       " [29796842, 213476629],\n",
       " [213572953, 213538770, 213538698, 213538758],\n",
       " [213538754, 29796836, 213538706],\n",
       " [213476640, 213476631],\n",
       " [213476640, 2512252524],\n",
       " [29796840, 213476657],\n",
       " [213476660, 2512252525],\n",
       " [30453400, 437708595, 828077359],\n",
       " [213476667, 29796838],\n",
       " [504315952, 213573340],\n",
       " [213538701],\n",
       " [213476674, 2512252526],\n",
       " [29517075, 29796836],\n",
       " [213572939, 213656958],\n",
       " [213572937, 213572965, 213572953],\n",
       " [213572955, 209387091, 213656958],\n",
       " [209387100],\n",
       " [],\n",
       " [305551848, 31393536, 29482318, 213572959],\n",
       " [1765630408, 31700078],\n",
       " [213572953, 305552757, 213572959],\n",
       " [213538745, 305552757],\n",
       " [213538770, 213572970],\n",
       " [30453320, 4520704482],\n",
       " [213572937],\n",
       " [29452651, 2480804071],\n",
       " [2485523864, 2485523862],\n",
       " [30453400, 2485523863],\n",
       " [209387140, 1765630406],\n",
       " [31393536, 3964969125, 4520704485, 1765657071],\n",
       " [209377880, 3750100565, 3964969125],\n",
       " [1765657072, 3750100565],\n",
       " [1765657072, 1765630405],\n",
       " [1765630404, 209377861, 1765630406],\n",
       " [1765657073, 1765630405, 828077359],\n",
       " [4158246906, 1765657075, 1765657074],\n",
       " [1975853544, 29452641, 1765657076],\n",
       " [392111056],\n",
       " [1846276665, 1704419702],\n",
       " [29783878, 213486214],\n",
       " [213573490, 4520704482],\n",
       " [213533472, 213533475, 213476660],\n",
       " [213572955],\n",
       " [213476584, 213476614],\n",
       " [1975853546, 303431774],\n",
       " [504315952, 1765630398],\n",
       " [1765630403, 1765630404],\n",
       " [3165394666, 1765657074, 1765630406],\n",
       " [1765657076, 1765630407],\n",
       " [1765630408, 1765657075],\n",
       " [2100706648, 29783881],\n",
       " [1975853544],\n",
       " [213538706, 213538741, 29784055],\n",
       " [300103857],\n",
       " [31461029, 31704574],\n",
       " [30453320, 209377834],\n",
       " [4520745137, 30453569],\n",
       " [4520704482, 213573490],\n",
       " [209377834, 209377861],\n",
       " [1765657072, 209387147],\n",
       " [209377880, 3750100565],\n",
       " [209377826, 1704419702],\n",
       " [31700050, 29482318, 209387103],\n",
       " [1765630401, 1765630403],\n",
       " [30453569],\n",
       " [29482321, 29482318],\n",
       " [1765657075, 209387127],\n",
       " [213572970, 213538741],\n",
       " [213486192, 2512252525, 213476631],\n",
       " [2512252526],\n",
       " [289446100, 213486197],\n",
       " [2512252524, 289446101, 213538758],\n",
       " [213476674, 213538754],\n",
       " [3165394666, 1765657074],\n",
       " [213533465, 29796838],\n",
       " [29783878],\n",
       " [30453400, 31278769],\n",
       " [2485523864, 209377850, 828077363],\n",
       " [32585160, 437708595, 2011708399],\n",
       " [31461030],\n",
       " [30453396],\n",
       " [31700050, 31700055],\n",
       " [32583859, 213573340],\n",
       " [213573342, 29784055],\n",
       " [1765630408, 209387112],\n",
       " [209387136, 31700050],\n",
       " [213538745, 213572955, 213538747, 1765630398],\n",
       " [213533472],\n",
       " [437708595, 828077363],\n",
       " [213533475, 213533477, 29796838],\n",
       " [29796840],\n",
       " [392111042, 2011708394],\n",
       " [213533472],\n",
       " [31278769, 2011708394, 828077363],\n",
       " [213538758],\n",
       " [209377834, 3964969125],\n",
       " [213476672, 213486211],\n",
       " [2100706648, 29783881, 31461029],\n",
       " [213461832],\n",
       " [1765657071, 213573342],\n",
       " [213476672, 213486211],\n",
       " [1765630408, 1975853560, 1975853546],\n",
       " [1765630404, 209387103],\n",
       " [1704789512, 32583859, 213538684],\n",
       " [209387100, 3750100565],\n",
       " [213538679],\n",
       " [1975853544, 1975853548, 1765657076],\n",
       " [213538706, 213572979],\n",
       " [1704789512, 29517075],\n",
       " [2011708394, 2011708399],\n",
       " [1765657073, 1765630407],\n",
       " [213538745, 213538747],\n",
       " [31393536, 213572970, 213572959],\n",
       " [31393536, 29784055, 1765657071],\n",
       " [289445691, 213538701],\n",
       " [213486192, 29517073],\n",
       " [32585160, 392111042],\n",
       " [29517073, 213538698, 305552757],\n",
       " [300103857, 31700077, 1573705335],\n",
       " [213476584, 213476614],\n",
       " [213649392, 31700077],\n",
       " [213649390],\n",
       " [1704789512, 32583859, 213573340, 213538747],\n",
       " [1765630407]]"
      ]
     },
     "execution_count": 5,
     "metadata": {},
     "output_type": "execute_result"
    }
   ],
   "source": [
    "# G.node\n",
    "G.adjacency_list()"
   ]
  },
  {
   "cell_type": "code",
   "execution_count": 32,
   "metadata": {},
   "outputs": [
    {
     "name": "stdout",
     "output_type": "stream",
     "text": [
      "Entree: [ 0.63508453  0.06768873  0.29972784  0.49411022  0.33056865  0.13357734\n",
      "  0.12101355  0.45392282  0.14531416  0.41093731]\n",
      "Plus petit: 0.0676887257449\n"
     ]
    }
   ],
   "source": [
    "# algorithme plus grand\n",
    "a = np.random.random_sample(10)\n",
    "print('Entree:', a)\n",
    "sortie = []\n",
    "\n",
    "plusPetit = a[0]\n",
    "i = 1\n",
    "while i<len(a):\n",
    "    if a[i] < plusPetit:\n",
    "        plusPetit = a[i]\n",
    "    i += 1\n",
    "    \n",
    "print('Plus petit:', plusPetit) "
   ]
  },
  {
   "cell_type": "code",
   "execution_count": 33,
   "metadata": {},
   "outputs": [
    {
     "name": "stdout",
     "output_type": "stream",
     "text": [
      "Entree: [0.2864355664762097, 0.1615865773031382, 0.04829249243910427, 0.7308299768054239, 0.1868446599786897, 0.026793615569460028, 0.4702455601713533, 0.43641808277844263, 0.7387820501302195, 0.5039450336905973]\n",
      "Liste triee: [0.026793615569460028, 0.04829249243910427, 0.1615865773031382, 0.1868446599786897, 0.2864355664762097, 0.43641808277844263, 0.4702455601713533, 0.5039450336905973, 0.7308299768054239, 0.7387820501302195]\n"
     ]
    }
   ],
   "source": [
    "# tri\n",
    "a = np.random.random_sample(10).tolist()\n",
    "print('Entree:', a)\n",
    "\n",
    "def plusPetit(a):\n",
    "    plusPetit = a[0]\n",
    "    i = 1\n",
    "    while i<len(a):\n",
    "        if a[i] < plusPetit:\n",
    "            plusPetit = a[i]\n",
    "        i += 1\n",
    "    return plusPetit\n",
    "\n",
    "sortie = []\n",
    "while len(a)>0:\n",
    "    pp = plusPetit(a)\n",
    "    sortie.append(pp)\n",
    "    a.remove(pp)\n",
    "print('Liste triee:', sortie)"
   ]
  },
  {
   "cell_type": "code",
   "execution_count": 6,
   "metadata": {},
   "outputs": [
    {
     "name": "stdout",
     "output_type": "stream",
     "text": [
      "Entrer un entier positif: 5\n",
      "2 2\n",
      "6 3\n",
      "24 4\n",
      "120 5\n",
      "Resultat de factorielle de 5: 120\n"
     ]
    }
   ],
   "source": [
    "# algorithme factorielle\n",
    "def Factorielle(N):\n",
    "    M=1\n",
    "    F=1\n",
    "    while M != N:\n",
    "        M=M+1\n",
    "        F=F*M\n",
    "        print(F, M)\n",
    "    return F\n",
    "\n",
    "N = int(input('Entrer un entier positif: '))\n",
    "print('Resultat de factorielle de {0}: {1}'.format(N, Factorielle(N)))"
   ]
  },
  {
   "cell_type": "code",
   "execution_count": 28,
   "metadata": {},
   "outputs": [
    {
     "name": "stdout",
     "output_type": "stream",
     "text": [
      "[[611982, 5039496], [688507, 5135853], [530908, 5107088], [449203, 5036850]]\n"
     ]
    },
    {
     "data": {
      "text/plain": [
       "([<matplotlib.axis.YTick at 0x7ff166aa79b0>,\n",
       "  <matplotlib.axis.YTick at 0x7ff166a9c9e8>,\n",
       "  <matplotlib.axis.YTick at 0x7ff166a9e668>,\n",
       "  <matplotlib.axis.YTick at 0x7ff166a3b048>],\n",
       " <a list of 4 Text yticklabel objects>)"
      ]
     },
     "execution_count": 28,
     "metadata": {},
     "output_type": "execute_result"
    },
    {
     "data": {
      "image/png": "[encoded data removed]",
      "text/plain": [
       "<matplotlib.figure.Figure at 0x7ff166c88470>"
      ]
     },
     "metadata": {},
     "output_type": "display_data"
    }
   ],
   "source": [
    "# calcul de distances\n",
    "coordonnees = {'Montréal': [611982, 5039496], # meme zones UTM 18T\n",
    "              'Trois-Rivières': [688507, 5135853],\n",
    "              'Mont-Tremblant': [530908, 5107088],\n",
    "              'Gatineau': [449203, 5036850]}\n",
    "noms = ['Montréal', 'Trois-Rivières', 'Mont-Tremblant', 'Gatineau']\n",
    "coordonnees = [[611982, 5039496],\n",
    "               [688507, 5135853],\n",
    "               [530908, 5107088],\n",
    "               [449203, 5036850]]\n",
    "nVilles = len(noms)\n",
    "distances = np.zeros((nVilles,nVilles))\n",
    "print(coordonnees)\n",
    "for i in range(nVilles):\n",
    "    for j in range(i):\n",
    "        distances[i,j] = np.sqrt((coordonnees[i][0]-coordonnees[j][0])**2 + (coordonnees[i][1]-coordonnees[j][1])**2)/1000\n",
    "        distances[j,i] = distances[i,j]\n",
    "        \n",
    "plt.imshow(distances, interpolation='none')\n",
    "plt.colorbar()\n",
    "plt.xticks(range(4), noms, rotation=45)\n",
    "plt.yticks(range(4), noms)"
   ]
  }
 ],
 "metadata": {
  "kernelspec": {
   "display_name": "Python 3",
   "language": "python",
   "name": "python3"
  },
  "language_info": {
   "codemirror_mode": {
    "name": "ipython",
    "version": 3
   },
   "file_extension": ".py",
   "mimetype": "text/x-python",
   "name": "python",
   "nbconvert_exporter": "python",
   "pygments_lexer": "ipython3",
   "version": "3.5.3"
  }
 },
 "nbformat": 4,
 "nbformat_minor": 2
}

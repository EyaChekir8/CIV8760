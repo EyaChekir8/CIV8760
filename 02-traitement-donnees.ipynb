{
 "cells": [
  {
   "cell_type": "code",
   "execution_count": 2,
   "metadata": {},
   "outputs": [
    {
     "name": "stdout",
     "output_type": "stream",
     "text": [
      "Entrer un entier positif: 7\n",
      "2 2\n",
      "6 3\n",
      "24 4\n",
      "120 5\n",
      "720 6\n",
      "5040 7\n",
      "Resultat de factorielle de 7: 5040\n"
     ]
    }
   ],
   "source": [
    "# algorithme factorielle\n",
    "def Factorielle(N):\n",
    "    M=1\n",
    "    F=1\n",
    "    while M != N:\n",
    "        M=M+1\n",
    "        F=F*M\n",
    "        print(F, M)\n",
    "    return F\n",
    "\n",
    "N = int(input('Entrer un entier positif: '))\n",
    "print('Resultat de factorielle de {0}: {1}'.format(N, Factorielle(N)))"
   ]
  }
 ],
 "metadata": {
  "kernelspec": {
   "display_name": "Python 3",
   "language": "python",
   "name": "python3"
  },
  "language_info": {
   "codemirror_mode": {
    "name": "ipython",
    "version": 3
   },
   "file_extension": ".py",
   "mimetype": "text/x-python",
   "name": "python",
   "nbconvert_exporter": "python",
   "pygments_lexer": "ipython3",
   "version": "3.5.2+"
  }
 },
 "nbformat": 4,
 "nbformat_minor": 2
}

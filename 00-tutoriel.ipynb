{
 "cells": [
  {
   "cell_type": "markdown",
   "metadata": {},
   "source": [
    "# Introduction\n",
    "\n",
    "## Objectifs\n",
    "+ bases de programmation être capable de concevoir et comprendre des traitement de données automatiques\n",
    " + références sur http://www.polymtl.ca/wikitransport/index.php?title=PythonResources#Where_to_start: software data et software carpentry, https://github.com/jakevdp/WhirlwindTourOfPython \n",
    "+ illustrer le cours\n",
    "+ compétences utiles\n",
    " + apprendre à utiliser les notebook\n",
    "+ apprivoiser un jeu de données (sklearn, statmodels datasets (rdatasets https://vincentarelbundock.github.io/Rdatasets/datasets.html))\n",
    "\n",
    "## Bonnes pratiques TODO traduire\n",
    "Wilson G, Aruliah DA, Brown CT, Chue Hong NP, Davis M, Guy RT, et al. (2014) Best Practices for Scientific Computing. PLoS Biol 12(1): e1001745. https://doi.org/10.1371/journal.pbio.1001745\n",
    "+ Write Programs for People, Not Computers\n",
    "+ Let the Computer Do the Work\n",
    "+ Make Incremental Changes\n",
    "+ Don't Repeat Yourself (or Others)\n",
    "+ Plan for Mistakes\n",
    "+ Optimize Software Only after It Works Correctly\n",
    "+ Document Design and Purpose, Not Mechanics\n",
    "+ Collaborate\n",
    "\n",
    "## Principes\n",
    "* Automatiser, \"soyez fainéant !\": un ordinateur est idiot et idéal pour les taches répétitives: permet de traiter de larges ensembles de données\n",
    "* Réutiliser votre code\n",
    "* Devenir autonome: résoudre un autre problème, apprendre un autre langage\n",
    "* Apprendre à contrôler son ordinateur: au lieu de se limiter aux programmes pensés et écrits par d'autres\n",
    " * Program or be programmed (Douglas Rushkoff, http://rushkoff.com/program/)\n",
    "* Comprendre ce qu'il est possible de programmer, et comment le faire: le but n'est pas d'apprendre Python, mais un langage de programmation moderne et puissant pour illustrer les principes\n",
    "* Assurer la répétabilité et traçabilité de vos traitements de données pour faire du travail de bonne qualité\n",
    "\n",
    "## Méthode\n",
    "* Développement itératif: faire la chose la plus simple qui peut marcher (\"do the simplest thing that could possibly work\") et raffiner (re-factoriser)\n",
    " * méthodes de développement logiciel agiles (\"eXtreme Programing\")\n",
    " * \"premature optimization is the root of all evil\"\n",
    "Don Knuth http://en.wikipedia.org/wiki/Program_optimization\n",
    " * tester interactivement le code dans l'interpréteur, manipulation directe des variables\n",
    "* Ne pas se répéter: éviter la duplication de code\n",
    "* Style de programmation\n",
    " * Choisir un style d'écriture et s'y tenir\n",
    " * Utiliser des noms explicites, éviter les commentaires: si trop long, cela veut dire que le code est compliqué et pourrait être simplifié\n",
    "* Attention aux détails et patience\n",
    " * reconnaître les différences\n",
    " * il faut rester rationnel\n",
    "  * l'ordinateur est idiot et suit vos instructions les unes après les autres: s'il y a un bug, c'est vous qui l'avez créé"
   ]
  },
  {
   "cell_type": "markdown",
   "metadata": {},
   "source": [
    "# Python\n",
    "\n",
    "* Avantages\n",
    " * Orienté-objet: ré-utilisation du code\n",
    " * Libre (\"open source\"): gratuit à utiliser et distribuer\n",
    " * Flexibilité\n",
    " * Largement utilisé et bonne documentation: automatiser VISSIM, Aimsun, QGIS et ArcGIS\n",
    " * Plus facile à lire et apprendre que d'autres langages: relire et reprendre votre code dans 6 mois est comme écrire pour être relu par un autre être humain\n",
    " * Multi-plateforme, langage \"glue\", \"Bindings\" pour de nombreux langages et bibliothèques\n",
    " * Bibliothèques scientifiques, visualisation, SIG http://www.scipy.org, http://matplotlib.sourceforge.net, https://github.com/Toblerity/Shapely/\n",
    "* Faiblesses: vitesse (langage interprété), manque de certains outils de calcul numérique et statistique (matlab)\n",
    "* Description\n",
    " * Langage interprété et interpréteur\n",
    " * Code = fichier texte, extension ~.py~\n",
    " * Les commentaires commencent par ~#~ \n",
    " * Scripts et modules (bibliothèques)\n",
    " * Large bibliothèque standard (\"standard library\", \"batteries included\") http://docs.python.org/library/"
   ]
  },
  {
   "cell_type": "markdown",
   "metadata": {},
   "source": [
    "quels jeux de donnees? mtcars, weather, cycling? "
   ]
  },
  {
   "cell_type": "code",
   "execution_count": 1,
   "metadata": {},
   "outputs": [
    {
     "name": "stdout",
     "output_type": "stream",
     "text": [
      "nicolas\n"
     ]
    },
    {
     "data": {
      "text/plain": [
       "'nicolas'"
      ]
     },
     "execution_count": 1,
     "metadata": {},
     "output_type": "execute_result"
    }
   ],
   "source": []
  }
 ],
 "metadata": {
  "kernelspec": {
   "display_name": "Python 3",
   "language": "python",
   "name": "python3"
  },
  "language_info": {
   "codemirror_mode": {
    "name": "ipython",
    "version": 3
   },
   "file_extension": ".py",
   "mimetype": "text/x-python",
   "name": "python",
   "nbconvert_exporter": "python",
   "pygments_lexer": "ipython3",
   "version": "3.5.2+"
  }
 },
 "nbformat": 4,
 "nbformat_minor": 2
}

{
 "cells": [
  {
   "cell_type": "markdown",
   "metadata": {},
   "source": [
    "| [Table des matières](index.ipynb) | [Module 2: Traitement de données](02-traitement-donnees.ipynb) >\n",
    "\n",
    "# Introduction\n",
    "## Objectifs\n",
    "* Familiarité avec Python et les Jupyter Notebook\n",
    " * comprendre les exemples présentés tout au long du cours, en traitement de données, analyse statistique et fouille de données\n",
    "* Commencer avec quelques exemples\n",
    " * de jeux de donnees et leurs attributs\n",
    " * de notions d'algorithmes: structures de donnees et de contrôle\n",
    "\n",
    "## Références\n",
    "* http://www.polymtl.ca/wikitransport/index.php?title=PythonResources#Where_to_start: \n",
    "* http://www.polymtl.ca/wikitransport/index.php?title=Ressources_pour_le_cours_de_gestion_de_donn%C3%A9es\n",
    "\n",
    "## Bonnes pratiques\n",
    "Wilson G, Aruliah DA, Brown CT, Chue Hong NP, Davis M, Guy RT, et al. (2014) Best Practices for Scientific Computing. PLoS Biol 12(1): e1001745. https://doi.org/10.1371/journal.pbio.1001745\n",
    "* Write Programs for People, Not Computers\n",
    "* Let the Computer Do the Work\n",
    "* Make Incremental Changes\n",
    "* Don't Repeat Yourself (or Others)\n",
    "* Plan for Mistakes\n",
    "* Optimize Software Only after It Works Correctly\n",
    "* Document Design and Purpose, Not Mechanics\n",
    "* Collaborate\n",
    "\n",
    "## Principes\n",
    "* Automatiser, \"soyez fainéant !\": un ordinateur est idiot et idéal pour les taches répétitives: permet de traiter de larges ensembles de données\n",
    "* Réutiliser votre code\n",
    "* Devenir autonome: résoudre un autre problème, apprendre un autre langage\n",
    "* Apprendre à contrôler son ordinateur: au lieu de se limiter aux programmes pensés et écrits par d'autres\n",
    " * Program or be programmed (Douglas Rushkoff, http://rushkoff.com/program/)\n",
    "* Comprendre ce qu'il est possible de programmer, et comment le faire: le but n'est pas d'apprendre Python, mais un langage de programmation moderne et puissant\n",
    "* Assurer la répétabilité et traçabilité de vos traitements de données pour faire du travail de bonne qualité\n",
    "\n",
    "## Méthode\n",
    "* Développement itératif: faire la chose la plus simple qui peut marcher (\"do the simplest thing that could possibly work\") et raffiner (re-factoriser)\n",
    " * méthodes de développement logiciel agiles\n",
    " * \"premature optimization is the root of all evil\" (Don Knuth http://en.wikipedia.org/wiki/Program_optimization)\n",
    " * tester interactivement le code dans l'interpréteur, manipulation directe des variables\n",
    "* Ne pas se répéter: éviter la duplication de code\n",
    "* Style de programmation\n",
    " * choisir un style d'écriture et s'y tenir\n",
    " * utiliser des noms explicites, éviter les commentaires: si les commentaires sont trop long, cela veut dire que le code est compliqué et pourrait être simplifié\n",
    "* Attention aux détails et patience\n",
    " * reconnaître les différences\n",
    " * il faut rester rationnel\n",
    "  * l'ordinateur est idiot et suit vos instructions les unes après les autres: s'il y a un bug, c'est vous qui l'avez créé"
   ]
  },
  {
   "cell_type": "markdown",
   "metadata": {},
   "source": [
    "# Python\n",
    "* Avantages\n",
    " * Orienté-objet: ré-utilisation du code\n",
    " * Libre (\"open source\"): gratuit à utiliser et distribuer\n",
    " * Flexibilité\n",
    " * Largement utilisé et bonne documentation: automatiser VISSIM, Aimsun, QGIS et ArcGIS\n",
    " * Plus facile à lire et apprendre que d'autres langages: relire et reprendre votre code dans 6 mois est comme écrire pour être relu par un autre être humain\n",
    " * Multi-plateforme, langage \"glue\", \"Bindings\" pour de nombreux langages et bibliothèques\n",
    " * Bibliothèques scientifiques, visualisation, SIG http://www.scipy.org, http://matplotlib.sourceforge.net, https://github.com/Toblerity/Shapely/\n",
    "* Faiblesses: vitesse (langage interprété), manque de certains outils de calcul numérique et statistique (matlab)\n",
    "* Description\n",
    " * Langage interprété et interpréteur\n",
    " * Version 3 vs 2\n",
    " * Code = fichier texte, extension `.py`\n",
    " * Les commentaires commencent par `#`\n",
    " * Scripts et modules (bibliothèques)\n",
    " * Large bibliothèque standard (\"standard library\", \"batteries included\") http://docs.python.org/library/"
   ]
  },
  {
   "cell_type": "code",
   "execution_count": 1,
   "metadata": {},
   "outputs": [
    {
     "name": "stdout",
     "output_type": "stream",
     "text": [
      "The Zen of Python, by Tim Peters\n",
      "\n",
      "Beautiful is better than ugly.\n",
      "Explicit is better than implicit.\n",
      "Simple is better than complex.\n",
      "Complex is better than complicated.\n",
      "Flat is better than nested.\n",
      "Sparse is better than dense.\n",
      "Readability counts.\n",
      "Special cases aren't special enough to break the rules.\n",
      "Although practicality beats purity.\n",
      "Errors should never pass silently.\n",
      "Unless explicitly silenced.\n",
      "In the face of ambiguity, refuse the temptation to guess.\n",
      "There should be one-- and preferably only one --obvious way to do it.\n",
      "Although that way may not be obvious at first unless you're Dutch.\n",
      "Now is better than never.\n",
      "Although never is often better than *right* now.\n",
      "If the implementation is hard to explain, it's a bad idea.\n",
      "If the implementation is easy to explain, it may be a good idea.\n",
      "Namespaces are one honking great idea -- let's do more of those!\n"
     ]
    }
   ],
   "source": [
    "# esprit de Python\n",
    "import this"
   ]
  },
  {
   "cell_type": "markdown",
   "metadata": {},
   "source": [
    " \n",
    "## Ligne de commande et interpréteur\n",
    "* Ne pas avoir peur d'écrire\n",
    "* L'interpréteur est une calculatrice\n",
    "* Simplifié par la complétion automatique et l'historique des commandes (+ facilités syntaxiques)\n",
    " * Ligne de commande avancée: IPython\n",
    "* Évaluer des expressions et des variables\n",
    " * `help`, `?`"
   ]
  },
  {
   "cell_type": "code",
   "execution_count": 2,
   "metadata": {},
   "outputs": [
    {
     "name": "stdout",
     "output_type": "stream",
     "text": [
      "Hello World\n",
      "Hello World\n",
      "Bonjour, comment vous appelez-vous ? nicolas\n",
      "Bonjour nicolas\n"
     ]
    }
   ],
   "source": [
    "print(\"Hello World\")\n",
    "s = \"Hello World\"\n",
    "print(s)\n",
    "reponse = input('Bonjour, comment vous appelez-vous ? ')\n",
    "print('Bonjour '+reponse)\n",
    "#%run ./00-script1.py"
   ]
  },
  {
   "cell_type": "markdown",
   "metadata": {},
   "source": [
    "## Jupyter Notebook\n",
    "* Environnement computationnel interactif web pour créer des carnets (\"notebooks\")\n",
    " * document JSON contenant une liste ordonnée de cellule d'entrée/sortie qui peuvent contenir du code, du texte, des formules mathématiques, des graphiques, etc.\n",
    "* Versions Python, R, Julia\n",
    "* Les notebooks peuvent être convertis dans plusieurs formats standards ouverts (HTML, diapositifs, LaTeX, PDF, ReStructuredText, Markdown, Python)\n",
    "* Processus de travail similaire à l'interpréteur\n",
    "* Outil de communication"
   ]
  },
  {
   "cell_type": "markdown",
   "metadata": {},
   "source": [
    "## Types de données de base\n",
    "* booléen (binaire)\n",
    "* numérique: entier, réel\n",
    "* chaîne de caractère\n",
    "* liste, tuple, ensembles\n",
    "* dictionnaire"
   ]
  },
  {
   "cell_type": "code",
   "execution_count": 3,
   "metadata": {},
   "outputs": [
    {
     "data": {
      "text/plain": [
       "str"
      ]
     },
     "execution_count": 3,
     "metadata": {},
     "output_type": "execute_result"
    }
   ],
   "source": [
    "type('Hello')"
   ]
  },
  {
   "cell_type": "code",
   "execution_count": 4,
   "metadata": {},
   "outputs": [
    {
     "data": {
      "text/plain": [
       "int"
      ]
     },
     "execution_count": 4,
     "metadata": {},
     "output_type": "execute_result"
    }
   ],
   "source": [
    "type(4)"
   ]
  },
  {
   "cell_type": "code",
   "execution_count": 5,
   "metadata": {},
   "outputs": [
    {
     "data": {
      "text/plain": [
       "float"
      ]
     },
     "execution_count": 5,
     "metadata": {},
     "output_type": "execute_result"
    }
   ],
   "source": [
    "type(4.5)"
   ]
  },
  {
   "cell_type": "code",
   "execution_count": 6,
   "metadata": {},
   "outputs": [
    {
     "data": {
      "text/plain": [
       "bool"
      ]
     },
     "execution_count": 6,
     "metadata": {},
     "output_type": "execute_result"
    }
   ],
   "source": [
    "type(True)"
   ]
  },
  {
   "cell_type": "code",
   "execution_count": 7,
   "metadata": {},
   "outputs": [
    {
     "data": {
      "text/plain": [
       "list"
      ]
     },
     "execution_count": 7,
     "metadata": {},
     "output_type": "execute_result"
    }
   ],
   "source": [
    "type([])"
   ]
  },
  {
   "cell_type": "code",
   "execution_count": 8,
   "metadata": {},
   "outputs": [
    {
     "data": {
      "text/plain": [
       "list"
      ]
     },
     "execution_count": 8,
     "metadata": {},
     "output_type": "execute_result"
    }
   ],
   "source": [
    "type([2,3])"
   ]
  },
  {
   "cell_type": "code",
   "execution_count": 9,
   "metadata": {},
   "outputs": [
    {
     "data": {
      "text/plain": [
       "dict"
      ]
     },
     "execution_count": 9,
     "metadata": {},
     "output_type": "execute_result"
    }
   ],
   "source": [
    "type({})"
   ]
  },
  {
   "cell_type": "code",
   "execution_count": 10,
   "metadata": {},
   "outputs": [
    {
     "data": {
      "text/plain": [
       "dict"
      ]
     },
     "execution_count": 10,
     "metadata": {},
     "output_type": "execute_result"
    }
   ],
   "source": [
    "type({1: 'sdfasd', 'g': [1,2]})"
   ]
  },
  {
   "cell_type": "code",
   "execution_count": 11,
   "metadata": {},
   "outputs": [
    {
     "data": {
      "text/plain": [
       "__main__.A"
      ]
     },
     "execution_count": 11,
     "metadata": {},
     "output_type": "execute_result"
    }
   ],
   "source": [
    "# enregistrement vide\n",
    "class A:\n",
    "    pass\n",
    "a = A()\n",
    "a.x = 10\n",
    "a.y = -2.3\n",
    "type(a)"
   ]
  },
  {
   "cell_type": "code",
   "execution_count": 12,
   "metadata": {},
   "outputs": [
    {
     "ename": "TypeError",
     "evalue": "must be str, not int",
     "output_type": "error",
     "traceback": [
      "\u001b[0;31m---------------------------------------------------------------------------\u001b[0m",
      "\u001b[0;31mTypeError\u001b[0m                                 Traceback (most recent call last)",
      "\u001b[0;32m<ipython-input-12-4f27c0a98914>\u001b[0m in \u001b[0;36m<module>\u001b[0;34m()\u001b[0m\n\u001b[1;32m      2\u001b[0m \u001b[0ma\u001b[0m \u001b[0;34m=\u001b[0m \u001b[0;36m2.3\u001b[0m\u001b[0;34m\u001b[0m\u001b[0m\n\u001b[1;32m      3\u001b[0m \u001b[0ma\u001b[0m \u001b[0;34m=\u001b[0m \u001b[0;34m'hello'\u001b[0m \u001b[0;31m# les variables n'ont pas de type\u001b[0m\u001b[0;34m\u001b[0m\u001b[0m\n\u001b[0;32m----> 4\u001b[0;31m \u001b[0mb\u001b[0m \u001b[0;34m=\u001b[0m \u001b[0ma\u001b[0m \u001b[0;34m+\u001b[0m \u001b[0;36m3\u001b[0m \u001b[0;31m# les valeurs ont un type\u001b[0m\u001b[0;34m\u001b[0m\u001b[0m\n\u001b[0m",
      "\u001b[0;31mTypeError\u001b[0m: must be str, not int"
     ]
    }
   ],
   "source": [
    "a = 2\n",
    "a = 2.3\n",
    "a = 'hello' # les variables n'ont pas de type\n",
    "b = a + 3 # les valeurs ont un type"
   ]
  },
  {
   "cell_type": "code",
   "execution_count": null,
   "metadata": {},
   "outputs": [],
   "source": [
    "# conversions entre types\n",
    "int('3')"
   ]
  },
  {
   "cell_type": "code",
   "execution_count": null,
   "metadata": {},
   "outputs": [],
   "source": [
    "str(3)"
   ]
  },
  {
   "cell_type": "code",
   "execution_count": null,
   "metadata": {},
   "outputs": [],
   "source": [
    "# opération\n",
    "i=1\n",
    "i == 1"
   ]
  },
  {
   "cell_type": "code",
   "execution_count": null,
   "metadata": {},
   "outputs": [],
   "source": [
    "i+=1\n",
    "i == 1"
   ]
  },
  {
   "cell_type": "code",
   "execution_count": null,
   "metadata": {},
   "outputs": [],
   "source": [
    "i == 2"
   ]
  },
  {
   "cell_type": "markdown",
   "metadata": {},
   "source": [
    "## Exercice\n",
    "Écrire un programme qui demande une vitesse et calcule le temps et la distance nécessaire pour s'arrêter. Le temps de perception réaction est 1.5 s et la décélération du véhicule est -1 m/s2. "
   ]
  },
  {
   "cell_type": "code",
   "execution_count": null,
   "metadata": {},
   "outputs": [],
   "source": [
    "print('À quelle vitesse roule le véhicule (km/h) ?')\n",
    "vitesse = None\n",
    "temps = None\n",
    "distance = None\n",
    "print('Le temps de freinage est', temps, 'et la distance de freinage est', distance)"
   ]
  },
  {
   "cell_type": "code",
   "execution_count": null,
   "metadata": {},
   "outputs": [],
   "source": [
    "# listes\n",
    "a = list(range(10))\n",
    "print(a)\n",
    "print(a[0]) # index commence à 0\n",
    "print(a[-1])\n",
    "print(a[-2])\n",
    "a[2] = -10\n",
    "# méthodes\n",
    "print(a)\n",
    "a.sort()\n",
    "print(a)\n",
    "a.append(-100)\n",
    "print(a)\n",
    "del a[0]\n",
    "print(a)\n",
    "a[3] = 'hello'\n",
    "print(a)"
   ]
  },
  {
   "cell_type": "code",
   "execution_count": null,
   "metadata": {},
   "outputs": [],
   "source": [
    "# appartenance\n",
    "1 in a"
   ]
  },
  {
   "cell_type": "code",
   "execution_count": null,
   "metadata": {},
   "outputs": [],
   "source": [
    "0 in a"
   ]
  },
  {
   "cell_type": "code",
   "execution_count": null,
   "metadata": {},
   "outputs": [],
   "source": [
    "# références\n",
    "b = list(range(10))\n",
    "c = b\n",
    "c[3] = 'bug'\n",
    "print(b)"
   ]
  },
  {
   "cell_type": "code",
   "execution_count": null,
   "metadata": {},
   "outputs": [],
   "source": [
    "# \"list comprehensions\"\n",
    "a = list(range(10))\n",
    "doubles = [2*x for x in a]\n",
    "print(doubles)\n",
    "carres = [x*x for x in a]\n",
    "print(carres)"
   ]
  },
  {
   "cell_type": "markdown",
   "metadata": {},
   "source": [
    "## Structures de contrôle\n",
    "* Séquences d’opérations\n",
    "* Conditionnelles: test si [condition] alors [opération1] (sinon [opération2])\n",
    "* Boucles:\n",
    " * tant que [condition] [opération]\n",
    " * itérateur (compteur) pour [ensemble] [opération]"
   ]
  },
  {
   "cell_type": "code",
   "execution_count": null,
   "metadata": {},
   "outputs": [],
   "source": [
    "# boucles\n",
    "a = list(range(5))\n",
    "for x in a: \n",
    "    print(x)\n",
    "for i in range(len(a)): \n",
    "    print(a[i])\n",
    "i = 0\n",
    "while i<len(a):\n",
    "    print(a[i])\n",
    "    i += 1\n",
    "# test\n",
    "from numpy.random import random_sample\n",
    "b = random_sample(10)\n",
    "print(b)\n",
    "for x in b:\n",
    "    if x > 0.5:\n",
    "        print(x)\n",
    "    else:\n",
    "        print('Nombre plus petit que 0.5', x)\n",
    "# list comprehensions avec test\n",
    "c = [x for x in b if x>0.5]\n",
    "print(c)"
   ]
  },
  {
   "cell_type": "markdown",
   "metadata": {},
   "source": [
    "## Exercice\n",
    "1. Modifier le programme de calcul du temps et de la distance de freinage pour donner les réponses pour différentes valeurs de décélération, entre -0.5 et -6 m/s^2 (avec un incrément de -0.5 m/s^2).\n",
    " 1. Faire un graphique du temps (ou de la distance) de freinage en fonction de la vitesse pour différentes valeurs de décélération\n",
    "1. Transformer le programme pour demander à l'utilisateur s'il veut continuer avec d'autres valeurs de vitesses, et ré-itérer la question et les calculs (tant que l'utilisateur veut continuer).\n",
    "1. Compter le nombre de chiffres plus petits que 0.5 dans la liste `c`."
   ]
  },
  {
   "cell_type": "markdown",
   "metadata": {},
   "source": [
    "## Bibliothèques scientifiques\n",
    "* numpy: vecteurs, matrices, etc.\n",
    "* scipy: fonctions scientifiques, en particulier statistiques\n",
    "* matplotlib: graphiques et visualisation\n",
    "* pandas: structures de données (interface et similarité avec SQL)\n",
    "* statsmodels: modèles statistiques\n",
    "* scikit-learn: apprentissage automatique"
   ]
  },
  {
   "cell_type": "code",
   "execution_count": null,
   "metadata": {},
   "outputs": [],
   "source": [
    "import urllib.request\n",
    "import zipfile\n",
    "import io\n",
    "\n",
    "import matplotlib.mlab as pylab\n",
    "import matplotlib.pyplot as plt\n",
    "import numpy as np\n",
    "import pandas as pd\n",
    "%matplotlib inline"
   ]
  },
  {
   "cell_type": "code",
   "execution_count": null,
   "metadata": {},
   "outputs": [],
   "source": [
    "# exemples numpy\n",
    "a = np.arange(10) # similaire a range(10), retourne une array\n",
    "b = np.zeros((4,5))\n",
    "c = np.ones((4,5))\n",
    "a = np.random.random_sample(10)\n",
    "# éviter les boucles, extraire des sous-vecteurs (comme avec matlab)\n",
    "b = a>0.5\n",
    "print(b)\n",
    "c = a[b]\n",
    "print(a)\n",
    "print(c)"
   ]
  },
  {
   "cell_type": "code",
   "execution_count": null,
   "metadata": {},
   "outputs": [],
   "source": [
    "# charger des matrices\n",
    "data = np.loadtxt('./vitesse-debit.txt')\n",
    "plt.plot(data[:,0], data[:,1], 'o')\n",
    "data.mean(0)"
   ]
  },
  {
   "cell_type": "markdown",
   "metadata": {},
   "source": [
    "## Exercice\n",
    "Sachant que la première colonne du fichier `vitesse-debit.txt` est la vitesse moyenne et la seconde le débit, calculer la densité (égale au débit divisé par la vitesse) et tracer le graphique de la vitesse en fonction de la densité."
   ]
  },
  {
   "cell_type": "code",
   "execution_count": null,
   "metadata": {},
   "outputs": [],
   "source": [
    "# jeu de données de voitures http://lib.stat.cmu.edu/DASL/Datafiles/Cars.html\n",
    "text = '''Country\tCar\tMPG\tWeight\tDrive_Ratio\tHorsepower\tDisplacement\tCylinders\n",
    "U.S.\tBuick Estate Wagon\t16.9\t4.360\t2.73\t155\t350\t8\n",
    "U.S.\tFord Country Squire Wagon\t15.5\t4.054\t2.26\t142\t351\t8\n",
    "U.S.\tChevy Malibu Wagon\t19.2\t3.605\t2.56\t125\t267\t8\n",
    "U.S.\tChrysler LeBaron Wagon\t18.5\t3.940\t2.45\t150\t360\t8\n",
    "U.S.\tChevette\t30.0\t2.155\t3.70\t68\t98\t4\n",
    "Japan\tToyota Corona\t27.5\t2.560\t3.05\t95\t134\t4\n",
    "Japan\tDatsun 510\t27.2\t2.300\t3.54\t97\t119\t4\n",
    "U.S.\tDodge Omni\t30.9\t2.230\t3.37\t75\t105\t4\n",
    "Germany\tAudi 5000\t20.3\t2.830\t3.90\t103\t131\t5\n",
    "Sweden\tVolvo 240 GL\t17.0\t3.140\t3.50\t125\t163\t6\n",
    "Sweden\tSaab 99 GLE\t21.6\t2.795\t3.77\t115\t121\t4\n",
    "France\tPeugeot 694 SL\t16.2\t3.410\t3.58\t133\t163\t6\n",
    "U.S.\tBuick Century Special\t20.6\t3.380\t2.73\t105\t231\t6\n",
    "U.S.\tMercury Zephyr\t20.8\t3.070\t3.08\t85\t200\t6\n",
    "U.S.\tDodge Aspen\t18.6\t3.620\t2.71\t110\t225\t6\n",
    "U.S.\tAMC Concord D/L\t18.1\t3.410\t2.73\t120\t258\t6\n",
    "U.S.\tChevy Caprice Classic\t17.0\t3.840\t2.41\t130\t305\t8\n",
    "U.S.\tFord LTD\t17.6\t3.725\t2.26\t129\t302\t8\n",
    "U.S.\tMercury Grand Marquis\t16.5\t3.955\t2.26\t138\t351\t8\n",
    "U.S.\tDodge St Regis\t18.2\t3.830\t2.45\t135\t318\t8\n",
    "U.S.\tFord Mustang 4\t26.5\t2.585\t3.08\t88\t140\t4\n",
    "U.S.\tFord Mustang Ghia\t21.9\t2.910\t3.08\t109\t171\t6\n",
    "Japan\tMazda GLC\t34.1\t1.975\t3.73\t65\t86\t4\n",
    "Japan\tDodge Colt\t35.1\t1.915\t2.97\t80\t98\t4\n",
    "U.S.\tAMC Spirit\t27.4\t2.670\t3.08\t80\t121\t4\n",
    "Germany\tVW Scirocco\t31.5\t1.990\t3.78\t71\t89\t4\n",
    "Japan\tHonda Accord LX\t29.5\t2.135\t3.05\t68\t98\t4\n",
    "U.S.\tBuick Skylark\t28.4\t2.670\t2.53\t90\t151\t4\n",
    "U.S.\tChevy Citation\t28.8\t2.595\t2.69\t115\t173\t6\n",
    "U.S.\tOlds Omega\t26.8\t2.700\t2.84\t115\t173\t6\n",
    "U.S.\tPontiac Phoenix\t33.5\t2.556\t2.69\t90\t151\t4\n",
    "U.S.\tPlymouth Horizon\t34.2\t2.200\t3.37\t70\t105\t4\n",
    "Japan\tDatsun 210\t31.8\t2.020\t3.70\t65\t85\t4\n",
    "Italy\tFiat Strada\t37.3\t2.130\t3.10\t69\t91\t4\n",
    "Germany\tVW Dasher\t30.5\t2.190\t3.70\t78\t97\t4\n",
    "Japan\tDatsun 810\t22.0\t2.815\t3.70\t97\t146\t6\n",
    "Germany\tBMW 320i\t21.5\t2.600\t3.64\t110\t121\t4\n",
    "Germany\tVW Rabbit\t31.9\t1.925\t3.78\t71\t89\t4\n",
    "'''\n",
    "s = io.StringIO(text)\n",
    "data = pd.read_csv(s, delimiter = '\\t')\n",
    "#data.to_csv('cars.txt', index=False)\n",
    "print(data.info())\n",
    "data"
   ]
  },
  {
   "cell_type": "code",
   "execution_count": null,
   "metadata": {},
   "outputs": [],
   "source": [
    "#data.describe(include = 'all')\n",
    "data.describe()"
   ]
  },
  {
   "cell_type": "code",
   "execution_count": null,
   "metadata": {},
   "outputs": [],
   "source": [
    "data['Country'].value_counts().plot(kind='bar')\n",
    "data[['Car', 'Country']].describe()"
   ]
  },
  {
   "cell_type": "code",
   "execution_count": null,
   "metadata": {},
   "outputs": [],
   "source": [
    "# exemple de vecteur ou enregistrement\n",
    "data.loc[0]"
   ]
  },
  {
   "cell_type": "markdown",
   "metadata": {},
   "source": [
    "## Exercice\n",
    "1. Quel est le type des attributs?\n",
    "1. Proposer une méthode pour déterminer le pays avec les véhicules les plus économes"
   ]
  },
  {
   "cell_type": "code",
   "execution_count": null,
   "metadata": {},
   "outputs": [],
   "source": [
    "plt.scatter(data.Weight, data.MPG)"
   ]
  },
  {
   "cell_type": "code",
   "execution_count": null,
   "metadata": {},
   "outputs": [],
   "source": [
    "# comptages vélo\n",
    "filename, message = urllib.request.urlretrieve('http://donnees.ville.montreal.qc.ca/dataset/f170fecc-18db-44bc-b4fe-5b0b6d2c7297/resource/6caecdd0-e5ac-48c1-a0cc-5b537936d5f6/download/comptagevelo20162.csv')\n",
    "data = pd.read_csv(filename)\n",
    "print(data.info())\n",
    "plt.plot(data['CSC (Côte Sainte-Catherine)'])"
   ]
  },
  {
   "cell_type": "code",
   "execution_count": null,
   "metadata": {},
   "outputs": [],
   "source": [
    "# 01/01/16 était un vendredi, le 4 était un lundi\n",
    "cscComptage = np.array(data['CSC (Côte Sainte-Catherine)'].tolist()[4:4+51*7]).reshape(51,7)\n",
    "for r in cscComptage:\n",
    "    plt.plot(r)\n",
    "plt.xticks(range(7),['lundi', 'mardi', 'mercredi', 'jeudi', 'vendredi', 'samedi', 'dimanche'])\n",
    "plt.ylabel('Nombre de cyclistes')"
   ]
  },
  {
   "cell_type": "code",
   "execution_count": null,
   "metadata": {},
   "outputs": [],
   "source": [
    "plt.imshow(cscComptage, interpolation = 'none', aspect = 'auto')\n",
    "plt.colorbar()"
   ]
  },
  {
   "cell_type": "markdown",
   "metadata": {},
   "source": [
    "## Exercice\n",
    "1. Les semaines sont-elle bien représentées? \n",
    "1. À quoi correspondent les bandes blanches dans l'image?"
   ]
  },
  {
   "cell_type": "code",
   "execution_count": null,
   "metadata": {},
   "outputs": [],
   "source": [
    "# données bixi\n",
    "filename, message = urllib.request.urlretrieve('https://montreal.bixi.com/c/bixi/file_db/data_all.file/OD_2017-07.zip')\n",
    "zip=zipfile.ZipFile(filename)\n",
    "data = pd.read_csv(zip.open(zip.namelist()[0]))"
   ]
  },
  {
   "cell_type": "code",
   "execution_count": null,
   "metadata": {},
   "outputs": [],
   "source": [
    "print(data.info())\n",
    "print(data.describe())\n",
    "# reflechir aux types, sens de moyenner des codes de station"
   ]
  },
  {
   "cell_type": "code",
   "execution_count": null,
   "metadata": {},
   "outputs": [],
   "source": [
    "# données météo d'Environnement Canada\n",
    "#filename, message = urllib.request.urlretrieve('http://climate.weather.gc.ca/climate_data/bulk_data_f.html?format=csv&stationID=10761&Year=2017&Month=1&Day=1&timeframe=2&submit=Download+Data')\n",
    "filename, message = urllib.request.urlretrieve('http://climate.weather.gc.ca/climate_data/bulk_data_f.html?format=csv&stationID=10761&Year=2017&Month=7&Day=1&timeframe=1&submit=Download+Data')\n",
    "data = pd.read_csv(filename, skiprows = 16, delimiter = ',')"
   ]
  },
  {
   "cell_type": "code",
   "execution_count": null,
   "metadata": {},
   "outputs": [],
   "source": [
    "print(data.info())\n",
    "plt.plot(data['Hum. rel (%)'])\n",
    "plt.show()\n",
    "#data.describe()\n",
    "# plt.plot"
   ]
  },
  {
   "cell_type": "markdown",
   "metadata": {},
   "source": [
    "| [Table des matrières](index.ipynb) | [Module 2: Traitement des données](02-traitement-donnees.ipynb) >"
   ]
  }
 ],
 "metadata": {
  "kernelspec": {
   "display_name": "Python 3",
   "language": "python",
   "name": "python3"
  },
  "language_info": {
   "codemirror_mode": {
    "name": "ipython",
    "version": 3
   },
   "file_extension": ".py",
   "mimetype": "text/x-python",
   "name": "python",
   "nbconvert_exporter": "python",
   "pygments_lexer": "ipython3",
   "version": "3.6.5"
  }
 },
 "nbformat": 4,
 "nbformat_minor": 2
}
